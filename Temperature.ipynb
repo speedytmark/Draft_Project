{
 "cells": [
  {
   "cell_type": "code",
   "execution_count": 28,
   "metadata": {},
   "outputs": [],
   "source": [
    "import pandas as pd\n",
    "import datetime\n",
    "import matplotlib.pyplot as plt\n",
    "import seaborn as sns"
   ]
  },
  {
   "cell_type": "code",
   "execution_count": 3,
   "metadata": {},
   "outputs": [],
   "source": [
    "temp=pd.read_csv('GlobalLandTemperaturesByCountry.csv')"
   ]
  },
  {
   "cell_type": "code",
   "execution_count": 6,
   "metadata": {},
   "outputs": [
    {
     "name": "stdout",
     "output_type": "stream",
     "text": [
      "<class 'pandas.core.frame.DataFrame'>\n",
      "RangeIndex: 577462 entries, 0 to 577461\n",
      "Data columns (total 4 columns):\n",
      " #   Column                         Non-Null Count   Dtype  \n",
      "---  ------                         --------------   -----  \n",
      " 0   dt                             577462 non-null  object \n",
      " 1   AverageTemperature             544811 non-null  float64\n",
      " 2   AverageTemperatureUncertainty  545550 non-null  float64\n",
      " 3   Country                        577462 non-null  object \n",
      "dtypes: float64(2), object(2)\n",
      "memory usage: 17.6+ MB\n"
     ]
    },
    {
     "data": {
      "text/html": [
       "<div>\n",
       "<style scoped>\n",
       "    .dataframe tbody tr th:only-of-type {\n",
       "        vertical-align: middle;\n",
       "    }\n",
       "\n",
       "    .dataframe tbody tr th {\n",
       "        vertical-align: top;\n",
       "    }\n",
       "\n",
       "    .dataframe thead th {\n",
       "        text-align: right;\n",
       "    }\n",
       "</style>\n",
       "<table border=\"1\" class=\"dataframe\">\n",
       "  <thead>\n",
       "    <tr style=\"text-align: right;\">\n",
       "      <th></th>\n",
       "      <th>dt</th>\n",
       "      <th>AverageTemperature</th>\n",
       "      <th>AverageTemperatureUncertainty</th>\n",
       "      <th>Country</th>\n",
       "    </tr>\n",
       "  </thead>\n",
       "  <tbody>\n",
       "    <tr>\n",
       "      <th>0</th>\n",
       "      <td>1743-11-01</td>\n",
       "      <td>4.384</td>\n",
       "      <td>2.294</td>\n",
       "      <td>Åland</td>\n",
       "    </tr>\n",
       "    <tr>\n",
       "      <th>1</th>\n",
       "      <td>1743-12-01</td>\n",
       "      <td>NaN</td>\n",
       "      <td>NaN</td>\n",
       "      <td>Åland</td>\n",
       "    </tr>\n",
       "    <tr>\n",
       "      <th>2</th>\n",
       "      <td>1744-01-01</td>\n",
       "      <td>NaN</td>\n",
       "      <td>NaN</td>\n",
       "      <td>Åland</td>\n",
       "    </tr>\n",
       "    <tr>\n",
       "      <th>3</th>\n",
       "      <td>1744-02-01</td>\n",
       "      <td>NaN</td>\n",
       "      <td>NaN</td>\n",
       "      <td>Åland</td>\n",
       "    </tr>\n",
       "    <tr>\n",
       "      <th>4</th>\n",
       "      <td>1744-03-01</td>\n",
       "      <td>NaN</td>\n",
       "      <td>NaN</td>\n",
       "      <td>Åland</td>\n",
       "    </tr>\n",
       "  </tbody>\n",
       "</table>\n",
       "</div>"
      ],
      "text/plain": [
       "           dt  AverageTemperature  AverageTemperatureUncertainty Country\n",
       "0  1743-11-01               4.384                          2.294   Åland\n",
       "1  1743-12-01                 NaN                            NaN   Åland\n",
       "2  1744-01-01                 NaN                            NaN   Åland\n",
       "3  1744-02-01                 NaN                            NaN   Åland\n",
       "4  1744-03-01                 NaN                            NaN   Åland"
      ]
     },
     "execution_count": 6,
     "metadata": {},
     "output_type": "execute_result"
    }
   ],
   "source": [
    "temp.info()\n",
    "temp.head()"
   ]
  },
  {
   "cell_type": "code",
   "execution_count": 16,
   "metadata": {},
   "outputs": [
    {
     "name": "stdout",
     "output_type": "stream",
     "text": [
      "<class 'pandas.core.frame.DataFrame'>\n",
      "RangeIndex: 577462 entries, 0 to 577461\n",
      "Data columns (total 5 columns):\n",
      " #   Column                         Non-Null Count   Dtype         \n",
      "---  ------                         --------------   -----         \n",
      " 0   dt                             577462 non-null  object        \n",
      " 1   AverageTemperature             544811 non-null  float64       \n",
      " 2   AverageTemperatureUncertainty  545550 non-null  float64       \n",
      " 3   Country                        577462 non-null  object        \n",
      " 4   Date                           577462 non-null  datetime64[ns]\n",
      "dtypes: datetime64[ns](1), float64(2), object(2)\n",
      "memory usage: 22.0+ MB\n"
     ]
    }
   ],
   "source": [
    "\n",
    "#Covert date column to datetime\n",
    "temp['Date']=temp['dt'].apply(lambda x: datetime.datetime.strptime(x, '%Y-%m-%d'))\n",
    "temp.info()"
   ]
  },
  {
   "cell_type": "code",
   "execution_count": 20,
   "metadata": {},
   "outputs": [
    {
     "data": {
      "text/html": [
       "<div>\n",
       "<style scoped>\n",
       "    .dataframe tbody tr th:only-of-type {\n",
       "        vertical-align: middle;\n",
       "    }\n",
       "\n",
       "    .dataframe tbody tr th {\n",
       "        vertical-align: top;\n",
       "    }\n",
       "\n",
       "    .dataframe thead th {\n",
       "        text-align: right;\n",
       "    }\n",
       "</style>\n",
       "<table border=\"1\" class=\"dataframe\">\n",
       "  <thead>\n",
       "    <tr style=\"text-align: right;\">\n",
       "      <th></th>\n",
       "      <th>AverageTemperature</th>\n",
       "      <th>AverageTemperatureUncertainty</th>\n",
       "      <th>Country</th>\n",
       "      <th>Date</th>\n",
       "    </tr>\n",
       "  </thead>\n",
       "  <tbody>\n",
       "    <tr>\n",
       "      <th>0</th>\n",
       "      <td>4.384</td>\n",
       "      <td>2.294</td>\n",
       "      <td>Åland</td>\n",
       "      <td>1743-11-01</td>\n",
       "    </tr>\n",
       "    <tr>\n",
       "      <th>5</th>\n",
       "      <td>1.530</td>\n",
       "      <td>4.680</td>\n",
       "      <td>Åland</td>\n",
       "      <td>1744-04-01</td>\n",
       "    </tr>\n",
       "    <tr>\n",
       "      <th>6</th>\n",
       "      <td>6.702</td>\n",
       "      <td>1.789</td>\n",
       "      <td>Åland</td>\n",
       "      <td>1744-05-01</td>\n",
       "    </tr>\n",
       "    <tr>\n",
       "      <th>7</th>\n",
       "      <td>11.609</td>\n",
       "      <td>1.577</td>\n",
       "      <td>Åland</td>\n",
       "      <td>1744-06-01</td>\n",
       "    </tr>\n",
       "    <tr>\n",
       "      <th>8</th>\n",
       "      <td>15.342</td>\n",
       "      <td>1.410</td>\n",
       "      <td>Åland</td>\n",
       "      <td>1744-07-01</td>\n",
       "    </tr>\n",
       "  </tbody>\n",
       "</table>\n",
       "</div>"
      ],
      "text/plain": [
       "   AverageTemperature  AverageTemperatureUncertainty Country       Date\n",
       "0               4.384                          2.294   Åland 1743-11-01\n",
       "5               1.530                          4.680   Åland 1744-04-01\n",
       "6               6.702                          1.789   Åland 1744-05-01\n",
       "7              11.609                          1.577   Åland 1744-06-01\n",
       "8              15.342                          1.410   Åland 1744-07-01"
      ]
     },
     "execution_count": 20,
     "metadata": {},
     "output_type": "execute_result"
    }
   ],
   "source": [
    "#drop Na's\n",
    "temp.dropna(inplace=True)\n",
    "temp.drop(columns='dt', inplace=True)\n",
    "temp.head()"
   ]
  },
  {
   "cell_type": "code",
   "execution_count": 22,
   "metadata": {},
   "outputs": [
    {
     "data": {
      "text/html": [
       "<div>\n",
       "<style scoped>\n",
       "    .dataframe tbody tr th:only-of-type {\n",
       "        vertical-align: middle;\n",
       "    }\n",
       "\n",
       "    .dataframe tbody tr th {\n",
       "        vertical-align: top;\n",
       "    }\n",
       "\n",
       "    .dataframe thead th {\n",
       "        text-align: right;\n",
       "    }\n",
       "</style>\n",
       "<table border=\"1\" class=\"dataframe\">\n",
       "  <thead>\n",
       "    <tr style=\"text-align: right;\">\n",
       "      <th></th>\n",
       "      <th>AverageTemperature</th>\n",
       "      <th>AverageTemperatureUncertainty</th>\n",
       "      <th>Country</th>\n",
       "      <th>Date</th>\n",
       "    </tr>\n",
       "  </thead>\n",
       "  <tbody>\n",
       "    <tr>\n",
       "      <th>1874</th>\n",
       "      <td>-3.026</td>\n",
       "      <td>0.538</td>\n",
       "      <td>Åland</td>\n",
       "      <td>1900-01-01</td>\n",
       "    </tr>\n",
       "    <tr>\n",
       "      <th>1875</th>\n",
       "      <td>-8.063</td>\n",
       "      <td>0.657</td>\n",
       "      <td>Åland</td>\n",
       "      <td>1900-02-01</td>\n",
       "    </tr>\n",
       "    <tr>\n",
       "      <th>1876</th>\n",
       "      <td>-3.196</td>\n",
       "      <td>0.467</td>\n",
       "      <td>Åland</td>\n",
       "      <td>1900-03-01</td>\n",
       "    </tr>\n",
       "    <tr>\n",
       "      <th>1877</th>\n",
       "      <td>0.781</td>\n",
       "      <td>0.224</td>\n",
       "      <td>Åland</td>\n",
       "      <td>1900-04-01</td>\n",
       "    </tr>\n",
       "    <tr>\n",
       "      <th>1878</th>\n",
       "      <td>4.960</td>\n",
       "      <td>0.503</td>\n",
       "      <td>Åland</td>\n",
       "      <td>1900-05-01</td>\n",
       "    </tr>\n",
       "  </tbody>\n",
       "</table>\n",
       "</div>"
      ],
      "text/plain": [
       "      AverageTemperature  AverageTemperatureUncertainty Country       Date\n",
       "1874              -3.026                          0.538   Åland 1900-01-01\n",
       "1875              -8.063                          0.657   Åland 1900-02-01\n",
       "1876              -3.196                          0.467   Åland 1900-03-01\n",
       "1877               0.781                          0.224   Åland 1900-04-01\n",
       "1878               4.960                          0.503   Åland 1900-05-01"
      ]
     },
     "execution_count": 22,
     "metadata": {},
     "output_type": "execute_result"
    }
   ],
   "source": [
    "#1900 to date\n",
    "temp=temp[temp['Date']>='1900-01-01']\n",
    "temp.head()"
   ]
  },
  {
   "cell_type": "code",
   "execution_count": 31,
   "metadata": {},
   "outputs": [
    {
     "name": "stdout",
     "output_type": "stream",
     "text": [
      "<class 'pandas.core.series.Series'>\n",
      "Index: 242 entries, Afghanistan to Åland\n",
      "Series name: AverageTemperature\n",
      "Non-Null Count  Dtype  \n",
      "--------------  -----  \n",
      "242 non-null    float64\n",
      "dtypes: float64(1)\n",
      "memory usage: 3.8+ KB\n"
     ]
    }
   ],
   "source": [
    "#Calculate average temp for each country\n",
    "country_temps=temp.groupby('Country')['AverageTemperature'].mean()\n",
    "country_temps\n",
    "print(country_temps.nlargest(10))\n",
    "print(country_temps.nsmallest(10))"
   ]
  },
  {
   "cell_type": "code",
   "execution_count": 34,
   "metadata": {},
   "outputs": [
    {
     "data": {
      "image/png": "[encoded data removed]",
      "text/plain": [
       "<Figure size 640x480 with 1 Axes>"
      ]
     },
     "metadata": {},
     "output_type": "display_data"
    }
   ],
   "source": [
    "sns.histplot(data=country_temps)\n",
    "plt.show()"
   ]
  },
  {
   "cell_type": "code",
   "execution_count": 77,
   "metadata": {},
   "outputs": [
    {
     "data": {
      "text/plain": [
       "Country\n",
       "Canada                                       -4.743584\n",
       "Denmark                                     -17.654628\n",
       "Finland                                       1.668611\n",
       "French Southern And Antarctic Lands           4.983111\n",
       "Greenland                                   -18.185688\n",
       "Heard Island And Mcdonald Islands             2.562115\n",
       "Iceland                                       1.776205\n",
       "Kyrgyzstan                                    3.489759\n",
       "Liechtenstein                                 4.936000\n",
       "Mongolia                                     -0.514383\n",
       "North America                                 2.446777\n",
       "Norway                                        0.468084\n",
       "Russia                                       -5.167612\n",
       "Saint Pierre And Miquelon                     4.705910\n",
       "South Georgia And The South Sandwich Isla     1.433921\n",
       "Svalbard And Jan Mayen                       -7.074860\n",
       "Sweden                                        2.762112\n",
       "Tajikistan                                    4.269776\n",
       "Name: AverageTemperature, dtype: float64"
      ]
     },
     "execution_count": 77,
     "metadata": {},
     "output_type": "execute_result"
    }
   ],
   "source": [
    "country_temps[country_temps<=5]"
   ]
  },
  {
   "cell_type": "code",
   "execution_count": 66,
   "metadata": {},
   "outputs": [
    {
     "data": {
      "image/png": "[encoded data removed]",
      "text/plain": [
       "<Figure size 640x480 with 1 Axes>"
      ]
     },
     "metadata": {},
     "output_type": "display_data"
    }
   ],
   "source": [
    "#Scatterplot with potential climate category lines\n",
    "sns.scatterplot(data=country_temps)\n",
    "plt.axhline(y = 16, color = 'r', linestyle = '-')\n",
    "plt.axhline(y = 4, color = 'r', linestyle = '-')\n",
    "plt.show()"
   ]
  },
  {
   "cell_type": "markdown",
   "metadata": {},
   "source": [
    "Will need to remove Continents\n",
    "Some European countries have multiple entries. Maybe european and colonial areas?"
   ]
  },
  {
   "cell_type": "code",
   "execution_count": 48,
   "metadata": {},
   "outputs": [
    {
     "data": {
      "text/html": [
       "<div>\n",
       "<style scoped>\n",
       "    .dataframe tbody tr th:only-of-type {\n",
       "        vertical-align: middle;\n",
       "    }\n",
       "\n",
       "    .dataframe tbody tr th {\n",
       "        vertical-align: top;\n",
       "    }\n",
       "\n",
       "    .dataframe thead th {\n",
       "        text-align: right;\n",
       "    }\n",
       "</style>\n",
       "<table border=\"1\" class=\"dataframe\">\n",
       "  <thead>\n",
       "    <tr style=\"text-align: right;\">\n",
       "      <th></th>\n",
       "      <th>AverageTemperature</th>\n",
       "      <th>AverageTemperatureUncertainty</th>\n",
       "      <th>Country</th>\n",
       "      <th>Date</th>\n",
       "    </tr>\n",
       "  </thead>\n",
       "  <tbody>\n",
       "    <tr>\n",
       "      <th>182988</th>\n",
       "      <td>3.709</td>\n",
       "      <td>0.463</td>\n",
       "      <td>France (Europe)</td>\n",
       "      <td>1900-01-01</td>\n",
       "    </tr>\n",
       "    <tr>\n",
       "      <th>186227</th>\n",
       "      <td>7.235</td>\n",
       "      <td>0.595</td>\n",
       "      <td>France</td>\n",
       "      <td>1900-01-01</td>\n",
       "    </tr>\n",
       "    <tr>\n",
       "      <th>186228</th>\n",
       "      <td>8.461</td>\n",
       "      <td>0.678</td>\n",
       "      <td>France</td>\n",
       "      <td>1900-02-01</td>\n",
       "    </tr>\n",
       "    <tr>\n",
       "      <th>182989</th>\n",
       "      <td>5.165</td>\n",
       "      <td>0.602</td>\n",
       "      <td>France (Europe)</td>\n",
       "      <td>1900-02-01</td>\n",
       "    </tr>\n",
       "    <tr>\n",
       "      <th>182990</th>\n",
       "      <td>3.771</td>\n",
       "      <td>0.384</td>\n",
       "      <td>France (Europe)</td>\n",
       "      <td>1900-03-01</td>\n",
       "    </tr>\n",
       "    <tr>\n",
       "      <th>...</th>\n",
       "      <td>...</td>\n",
       "      <td>...</td>\n",
       "      <td>...</td>\n",
       "      <td>...</td>\n",
       "    </tr>\n",
       "    <tr>\n",
       "      <th>184349</th>\n",
       "      <td>16.328</td>\n",
       "      <td>0.287</td>\n",
       "      <td>France (Europe)</td>\n",
       "      <td>2013-06-01</td>\n",
       "    </tr>\n",
       "    <tr>\n",
       "      <th>187589</th>\n",
       "      <td>21.817</td>\n",
       "      <td>0.348</td>\n",
       "      <td>France</td>\n",
       "      <td>2013-07-01</td>\n",
       "    </tr>\n",
       "    <tr>\n",
       "      <th>184350</th>\n",
       "      <td>21.291</td>\n",
       "      <td>0.376</td>\n",
       "      <td>France (Europe)</td>\n",
       "      <td>2013-07-01</td>\n",
       "    </tr>\n",
       "    <tr>\n",
       "      <th>184351</th>\n",
       "      <td>19.471</td>\n",
       "      <td>0.374</td>\n",
       "      <td>France (Europe)</td>\n",
       "      <td>2013-08-01</td>\n",
       "    </tr>\n",
       "    <tr>\n",
       "      <th>187590</th>\n",
       "      <td>20.366</td>\n",
       "      <td>0.378</td>\n",
       "      <td>France</td>\n",
       "      <td>2013-08-01</td>\n",
       "    </tr>\n",
       "  </tbody>\n",
       "</table>\n",
       "<p>2728 rows × 4 columns</p>\n",
       "</div>"
      ],
      "text/plain": [
       "        AverageTemperature  AverageTemperatureUncertainty          Country  \\\n",
       "182988               3.709                          0.463  France (Europe)   \n",
       "186227               7.235                          0.595           France   \n",
       "186228               8.461                          0.678           France   \n",
       "182989               5.165                          0.602  France (Europe)   \n",
       "182990               3.771                          0.384  France (Europe)   \n",
       "...                    ...                            ...              ...   \n",
       "184349              16.328                          0.287  France (Europe)   \n",
       "187589              21.817                          0.348           France   \n",
       "184350              21.291                          0.376  France (Europe)   \n",
       "184351              19.471                          0.374  France (Europe)   \n",
       "187590              20.366                          0.378           France   \n",
       "\n",
       "             Date  \n",
       "182988 1900-01-01  \n",
       "186227 1900-01-01  \n",
       "186228 1900-02-01  \n",
       "182989 1900-02-01  \n",
       "182990 1900-03-01  \n",
       "...           ...  \n",
       "184349 2013-06-01  \n",
       "187589 2013-07-01  \n",
       "184350 2013-07-01  \n",
       "184351 2013-08-01  \n",
       "187590 2013-08-01  \n",
       "\n",
       "[2728 rows x 4 columns]"
      ]
     },
     "execution_count": 48,
     "metadata": {},
     "output_type": "execute_result"
    }
   ],
   "source": [
    "country_temps[country_temps.index.isin(['North America', 'South America', 'Africa', 'Europe', 'Asia','Antarctica', 'Åland', 'France', 'France (Europe)'])]\n",
    "temp[temp['Country'].isin(['France','France (Europe)'])].sort_values(by=['Date'])"
   ]
  },
  {
   "cell_type": "markdown",
   "metadata": {},
   "source": [
    "Create a potential categorical bin of climates"
   ]
  },
  {
   "cell_type": "code",
   "execution_count": 67,
   "metadata": {},
   "outputs": [],
   "source": [
    "climate=pd.DataFrame(country_temps)\n",
    "climate['Climate']=pd.cut(country_temps,[-200,4,16,300],labels=['Cold','Moderate','Hot'])"
   ]
  },
  {
   "cell_type": "code",
   "execution_count": 68,
   "metadata": {},
   "outputs": [
    {
     "data": {
      "text/html": [
       "<div>\n",
       "<style scoped>\n",
       "    .dataframe tbody tr th:only-of-type {\n",
       "        vertical-align: middle;\n",
       "    }\n",
       "\n",
       "    .dataframe tbody tr th {\n",
       "        vertical-align: top;\n",
       "    }\n",
       "\n",
       "    .dataframe thead th {\n",
       "        text-align: right;\n",
       "    }\n",
       "</style>\n",
       "<table border=\"1\" class=\"dataframe\">\n",
       "  <thead>\n",
       "    <tr style=\"text-align: right;\">\n",
       "      <th></th>\n",
       "      <th>AverageTemperature</th>\n",
       "      <th>Climate</th>\n",
       "    </tr>\n",
       "    <tr>\n",
       "      <th>Country</th>\n",
       "      <th></th>\n",
       "      <th></th>\n",
       "    </tr>\n",
       "  </thead>\n",
       "  <tbody>\n",
       "    <tr>\n",
       "      <th>Afghanistan</th>\n",
       "      <td>14.225853</td>\n",
       "      <td>Moderate</td>\n",
       "    </tr>\n",
       "    <tr>\n",
       "      <th>Africa</th>\n",
       "      <td>24.242265</td>\n",
       "      <td>Hot</td>\n",
       "    </tr>\n",
       "    <tr>\n",
       "      <th>Albania</th>\n",
       "      <td>12.885981</td>\n",
       "      <td>Moderate</td>\n",
       "    </tr>\n",
       "    <tr>\n",
       "      <th>Algeria</th>\n",
       "      <td>23.266212</td>\n",
       "      <td>Hot</td>\n",
       "    </tr>\n",
       "    <tr>\n",
       "      <th>American Samoa</th>\n",
       "      <td>26.719510</td>\n",
       "      <td>Hot</td>\n",
       "    </tr>\n",
       "    <tr>\n",
       "      <th>...</th>\n",
       "      <td>...</td>\n",
       "      <td>...</td>\n",
       "    </tr>\n",
       "    <tr>\n",
       "      <th>Western Sahara</th>\n",
       "      <td>22.583814</td>\n",
       "      <td>Hot</td>\n",
       "    </tr>\n",
       "    <tr>\n",
       "      <th>Yemen</th>\n",
       "      <td>26.329659</td>\n",
       "      <td>Hot</td>\n",
       "    </tr>\n",
       "    <tr>\n",
       "      <th>Zambia</th>\n",
       "      <td>21.399847</td>\n",
       "      <td>Hot</td>\n",
       "    </tr>\n",
       "    <tr>\n",
       "      <th>Zimbabwe</th>\n",
       "      <td>21.247888</td>\n",
       "      <td>Hot</td>\n",
       "    </tr>\n",
       "    <tr>\n",
       "      <th>Åland</th>\n",
       "      <td>5.661154</td>\n",
       "      <td>Moderate</td>\n",
       "    </tr>\n",
       "  </tbody>\n",
       "</table>\n",
       "<p>242 rows × 2 columns</p>\n",
       "</div>"
      ],
      "text/plain": [
       "                AverageTemperature   Climate\n",
       "Country                                     \n",
       "Afghanistan              14.225853  Moderate\n",
       "Africa                   24.242265       Hot\n",
       "Albania                  12.885981  Moderate\n",
       "Algeria                  23.266212       Hot\n",
       "American Samoa           26.719510       Hot\n",
       "...                            ...       ...\n",
       "Western Sahara           22.583814       Hot\n",
       "Yemen                    26.329659       Hot\n",
       "Zambia                   21.399847       Hot\n",
       "Zimbabwe                 21.247888       Hot\n",
       "Åland                     5.661154  Moderate\n",
       "\n",
       "[242 rows x 2 columns]"
      ]
     },
     "execution_count": 68,
     "metadata": {},
     "output_type": "execute_result"
    }
   ],
   "source": [
    "climate"
   ]
  }
 ],
 "metadata": {
  "kernelspec": {
   "display_name": "Python 3",
   "language": "python",
   "name": "python3"
  },
  "language_info": {
   "codemirror_mode": {
    "name": "ipython",
    "version": 3
   },
   "file_extension": ".py",
   "mimetype": "text/x-python",
   "name": "python",
   "nbconvert_exporter": "python",
   "pygments_lexer": "ipython3",
   "version": "3.11.1"
  }
 },
 "nbformat": 4,
 "nbformat_minor": 2
}
