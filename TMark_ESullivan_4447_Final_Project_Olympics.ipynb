{
 "cells": [
  {
   "cell_type": "markdown",
   "id": "e08dfe39",
   "metadata": {},
   "source": [
    "# COMP- 4447: Data Science Tools 1\n",
    "## Olympics and Climate Analysis\n",
    "Travis Mark and Eleanore Sullivan"
   ]
  },
  {
   "cell_type": "markdown",
   "id": "b6e6eceb",
   "metadata": {},
   "source": [
    "## Introduction: "
   ]
  },
  {
   "cell_type": "markdown",
   "id": "cc99f618",
   "metadata": {},
   "source": [
    "### Background:\n",
    "The history of the Olympics goes back to Ancient Greece. Every four years, there was a sports contest at Olympia. The origin of the games is often linked to Greek mythology, specifically Zeus, Kronos, Apollo, Hermes, and Ares. The Games were revived in 1896 and the modern era of the Olympics began. \n",
    "\n",
    "Since the revival, more and more events have been added to the Games, including starting the winter games, and athletes from all over the world train in the hopes of winning Olympic gold. \n",
    "\n",
    "https://olympics.com/ioc/faq/history-and-origin-of-the-games/what-is-the-origin-of-the-olympic-games\n",
    "\n",
    "### Literature Review:\n",
    "https://www.kaggle.com/code/heesoo37/olympic-history-data-a-thorough-analysis\n",
    "\n",
    "In this analysis, Olympic History Data: Thorough Analysis, the analyst reviewed major patterns in Olympics history. The trends of the number of competing athletes and nations, as well as the number of events in the summer and winter games were reviewed. Over time the number of athletes, nations, and events have increased in both seasons of the Olympics. In analyzing these trends, rgriffin was able to find correlations to major historical events. For example, there were two periods in which the Olympics were not held that correspond to World War I and World War II. The analyst noted that an explanation for the decrease in participation in the 1956 Melbourne Olympics could be the boycotts of Iraq, Egypt and Lebanon due to the Suez Crisis. The Netherlands, Spain, Switzerland and Cambodia did not participate because of the Hungarian Revolution and China did not compete due to the addition of Taiwan.\n",
    "\n",
    "Women were not allowed to compete in the Olympic Games until 1900. There was not a significant increase in female olympic participation until the 1980s. Around 2010, the difference in the number of male and female athletes decreased to less than 2,000. The percentage of female athletes on the United States Olympic Team increased from approximately 12% in 1936 to over 25% in 1976 and in 2016 about 50% of the team were women. \n",
    "\n",
    "The geographic distribution of athletes has also changed overtime. In Amsterdam in 1928, there were a handful of countries with over 100 atheltes competing. By Rio in 2016, most of North America, South America, Europe and Asia had greater than 100 athletes competing. African countries have historically had fewer competitors but that number has been increasing. \n",
    "\n",
    "https://scholarworks.calstate.edu/downloads/n870zt00q\n",
    "\n",
    "The thesis, Olympic Games Medal Count Analysis Summer and Winter Olympic Games, was prepared by Jiaxin Si. Si's analysis focused on the statistics of events, medals, hosting cities, winners' characteristics, and a gender comparison. The main data analysis portion of the thesis included a statistical model using GDP (Gross Domestic Product) and average high temperature. \n",
    "\n",
    "Si used a linear regression model to analyze the relationship between the number of medals and the average high temperature in winter. Jiaxin explains that, \"studies have shown that differen enthnic groups in differe climate zones have their own strength sports.\" According to the referenced studies, different climates are more condusive to endurance activies. The conclusion from this model is that there is a linear dependence between number of medals and average high winter temperature. Moderate winter high temperatures are correlated to a higher count of medals. \n",
    "\n",
    "https://medium.com/nerd-for-tech/data-exploration-of-historical-olympics-dataset-2d50a7d0611d#62a6\n",
    "\n",
    "Pandas, seaborn, matplotlib, numpy, and pandasql were used in this analysis to investigate the sex, height, weight and age of athletes and how that affects the medals won. For example, athletes with height less than 140 cm and age less than 20 years were found to have won more medals. Using a maximum height of 140 cm and maximum age of 20 years, the athletes remaining competed in diving and gymnastics. \n",
    "\n",
    "### Research Goals:\n",
    "The goals of this project are to analyze the relationship between performance at the Olympics and the climate of the country. Do countries with hot climates perform better in the Summer Olympic Games as compared to the Winter Olympic Games? Do countries with cold climates perform better in the Winter Olympic Games than countries with hot or moderate climates?\n",
    "\n",
    "* Look at success and participation. AKA more participation in the summer olympics for hot countries"
   ]
  },
  {
   "cell_type": "markdown",
   "id": "0775cca1",
   "metadata": {},
   "source": [
    "## Data\n",
    "### Data Souces:\n",
    "Three data sources will be used to analyze the relationship between Olympic performance and climate: the Olympics dataset, the International Olympic Committee Code dataset, and the climate dataset. \n",
    "\n",
    "The Olympics dataset was downloaded from Kaggle (https://www.kaggle.com/code/chadalee/olympics-data-cleaning-exploration-prediction). The dataset includes the following columns: ID, Name, Sex, Age, Height, Weight, Team, NOC, Games, Year, Season, City, Sport, Event, and Medal.\n",
    "\n",
    "The International Olympic Committee List will be used to correct NOC in the Olympics dataset. This list is from Wikipedia (https://en.wikipedia.org/wiki/List_of_IOC_country_codes). \n",
    "\n",
    "The climate dataset was downloaded from ..............................\n",
    "\n",
    "### Data Processing:\n",
    "First, we'll import libraries and load the olympics dataset."
   ]
  },
  {
   "cell_type": "code",
   "execution_count": 33,
   "id": "8ee82dd9",
   "metadata": {},
   "outputs": [],
   "source": [
    "# Import Libraries\n",
    "import pandas as pd\n",
    "import re\n",
    "import plotly.express as px\n",
    "import matplotlib.pyplot as plt\n",
    "import seaborn as sns\n",
    "import datetime\n",
    "import re\n",
    "import numpy as np\n",
    "from sklearn.cluster import KMeans\n",
    "import geopandas as gpd\n",
    "from matplotlib.colors import ListedColormap"
   ]
  },
  {
   "cell_type": "code",
   "execution_count": 34,
   "id": "9a64c9c6",
   "metadata": {},
   "outputs": [
    {
     "data": {
      "text/html": [
       "<div>\n",
       "<style scoped>\n",
       "    .dataframe tbody tr th:only-of-type {\n",
       "        vertical-align: middle;\n",
       "    }\n",
       "\n",
       "    .dataframe tbody tr th {\n",
       "        vertical-align: top;\n",
       "    }\n",
       "\n",
       "    .dataframe thead th {\n",
       "        text-align: right;\n",
       "    }\n",
       "</style>\n",
       "<table border=\"1\" class=\"dataframe\">\n",
       "  <thead>\n",
       "    <tr style=\"text-align: right;\">\n",
       "      <th></th>\n",
       "      <th>ID</th>\n",
       "      <th>Name</th>\n",
       "      <th>Sex</th>\n",
       "      <th>Age</th>\n",
       "      <th>Height</th>\n",
       "      <th>Weight</th>\n",
       "      <th>Team</th>\n",
       "      <th>NOC</th>\n",
       "      <th>Games</th>\n",
       "      <th>Year</th>\n",
       "      <th>Season</th>\n",
       "      <th>City</th>\n",
       "      <th>Sport</th>\n",
       "      <th>Event</th>\n",
       "      <th>Medal</th>\n",
       "    </tr>\n",
       "  </thead>\n",
       "  <tbody>\n",
       "    <tr>\n",
       "      <th>0</th>\n",
       "      <td>1</td>\n",
       "      <td>A Dijiang</td>\n",
       "      <td>M</td>\n",
       "      <td>24.0</td>\n",
       "      <td>180.0</td>\n",
       "      <td>80.0</td>\n",
       "      <td>China</td>\n",
       "      <td>CHN</td>\n",
       "      <td>1992 Summer</td>\n",
       "      <td>1992</td>\n",
       "      <td>Summer</td>\n",
       "      <td>Barcelona</td>\n",
       "      <td>Basketball</td>\n",
       "      <td>Basketball Men's Basketball</td>\n",
       "      <td>NaN</td>\n",
       "    </tr>\n",
       "    <tr>\n",
       "      <th>1</th>\n",
       "      <td>2</td>\n",
       "      <td>A Lamusi</td>\n",
       "      <td>M</td>\n",
       "      <td>23.0</td>\n",
       "      <td>170.0</td>\n",
       "      <td>60.0</td>\n",
       "      <td>China</td>\n",
       "      <td>CHN</td>\n",
       "      <td>2012 Summer</td>\n",
       "      <td>2012</td>\n",
       "      <td>Summer</td>\n",
       "      <td>London</td>\n",
       "      <td>Judo</td>\n",
       "      <td>Judo Men's Extra-Lightweight</td>\n",
       "      <td>NaN</td>\n",
       "    </tr>\n",
       "    <tr>\n",
       "      <th>2</th>\n",
       "      <td>3</td>\n",
       "      <td>Gunnar Nielsen Aaby</td>\n",
       "      <td>M</td>\n",
       "      <td>24.0</td>\n",
       "      <td>NaN</td>\n",
       "      <td>NaN</td>\n",
       "      <td>Denmark</td>\n",
       "      <td>DEN</td>\n",
       "      <td>1920 Summer</td>\n",
       "      <td>1920</td>\n",
       "      <td>Summer</td>\n",
       "      <td>Antwerpen</td>\n",
       "      <td>Football</td>\n",
       "      <td>Football Men's Football</td>\n",
       "      <td>NaN</td>\n",
       "    </tr>\n",
       "    <tr>\n",
       "      <th>3</th>\n",
       "      <td>4</td>\n",
       "      <td>Edgar Lindenau Aabye</td>\n",
       "      <td>M</td>\n",
       "      <td>34.0</td>\n",
       "      <td>NaN</td>\n",
       "      <td>NaN</td>\n",
       "      <td>Denmark/Sweden</td>\n",
       "      <td>DEN</td>\n",
       "      <td>1900 Summer</td>\n",
       "      <td>1900</td>\n",
       "      <td>Summer</td>\n",
       "      <td>Paris</td>\n",
       "      <td>Tug-Of-War</td>\n",
       "      <td>Tug-Of-War Men's Tug-Of-War</td>\n",
       "      <td>Gold</td>\n",
       "    </tr>\n",
       "    <tr>\n",
       "      <th>4</th>\n",
       "      <td>5</td>\n",
       "      <td>Christine Jacoba Aaftink</td>\n",
       "      <td>F</td>\n",
       "      <td>21.0</td>\n",
       "      <td>185.0</td>\n",
       "      <td>82.0</td>\n",
       "      <td>Netherlands</td>\n",
       "      <td>NED</td>\n",
       "      <td>1988 Winter</td>\n",
       "      <td>1988</td>\n",
       "      <td>Winter</td>\n",
       "      <td>Calgary</td>\n",
       "      <td>Speed Skating</td>\n",
       "      <td>Speed Skating Women's 500 metres</td>\n",
       "      <td>NaN</td>\n",
       "    </tr>\n",
       "  </tbody>\n",
       "</table>\n",
       "</div>"
      ],
      "text/plain": [
       "   ID                      Name Sex   Age  Height  Weight            Team  \\\n",
       "0   1                 A Dijiang   M  24.0   180.0    80.0           China   \n",
       "1   2                  A Lamusi   M  23.0   170.0    60.0           China   \n",
       "2   3       Gunnar Nielsen Aaby   M  24.0     NaN     NaN         Denmark   \n",
       "3   4      Edgar Lindenau Aabye   M  34.0     NaN     NaN  Denmark/Sweden   \n",
       "4   5  Christine Jacoba Aaftink   F  21.0   185.0    82.0     Netherlands   \n",
       "\n",
       "   NOC        Games  Year  Season       City          Sport  \\\n",
       "0  CHN  1992 Summer  1992  Summer  Barcelona     Basketball   \n",
       "1  CHN  2012 Summer  2012  Summer     London           Judo   \n",
       "2  DEN  1920 Summer  1920  Summer  Antwerpen       Football   \n",
       "3  DEN  1900 Summer  1900  Summer      Paris     Tug-Of-War   \n",
       "4  NED  1988 Winter  1988  Winter    Calgary  Speed Skating   \n",
       "\n",
       "                              Event Medal  \n",
       "0       Basketball Men's Basketball   NaN  \n",
       "1      Judo Men's Extra-Lightweight   NaN  \n",
       "2           Football Men's Football   NaN  \n",
       "3       Tug-Of-War Men's Tug-Of-War  Gold  \n",
       "4  Speed Skating Women's 500 metres   NaN  "
      ]
     },
     "execution_count": 34,
     "metadata": {},
     "output_type": "execute_result"
    }
   ],
   "source": [
    "# Load the Olympics Dataset\n",
    "olympics = pd.read_csv('athlete_events.csv')\n",
    "olympics.head()"
   ]
  },
  {
   "cell_type": "code",
   "execution_count": 35,
   "id": "bd580922",
   "metadata": {},
   "outputs": [
    {
     "data": {
      "text/plain": [
       "ID          int64\n",
       "Name       object\n",
       "Sex        object\n",
       "Age       float64\n",
       "Height    float64\n",
       "Weight    float64\n",
       "Team       object\n",
       "NOC        object\n",
       "Games      object\n",
       "Year        int64\n",
       "Season     object\n",
       "City       object\n",
       "Sport      object\n",
       "Event      object\n",
       "Medal      object\n",
       "dtype: object"
      ]
     },
     "execution_count": 35,
     "metadata": {},
     "output_type": "execute_result"
    }
   ],
   "source": [
    "# What are the Datatypes?\n",
    "olympics.dtypes"
   ]
  },
  {
   "cell_type": "markdown",
   "id": "3359d03d",
   "metadata": {},
   "source": [
    "We need to drop some columns and change the data types of the columns we're going to use. "
   ]
  },
  {
   "cell_type": "code",
   "execution_count": 36,
   "id": "8142750f",
   "metadata": {},
   "outputs": [
    {
     "data": {
      "text/plain": [
       "Name       string\n",
       "Sex      category\n",
       "Age       float64\n",
       "Team       string\n",
       "NOC        string\n",
       "Games      string\n",
       "City       string\n",
       "Sport      string\n",
       "Event      string\n",
       "Medal      object\n",
       "dtype: object"
      ]
     },
     "execution_count": 36,
     "metadata": {},
     "output_type": "execute_result"
    }
   ],
   "source": [
    "# Drop Columns\n",
    "olympics = olympics.drop(['ID', 'Height', 'Weight', 'Year', 'Season'], \n",
    "                         axis=1)\n",
    "\n",
    "# Change Datatypes\n",
    "olympics['Name'] = olympics['Name'].astype(\"string\")\n",
    "olympics['Sex'] = olympics['Sex'].astype(\"category\")\n",
    "olympics['Team'] = olympics['Team'].astype(\"string\")\n",
    "olympics['NOC'] = olympics['NOC'].astype(\"string\")\n",
    "olympics['Games'] = olympics['Games'].astype(\"string\")\n",
    "olympics['City'] = olympics['City'].astype(\"string\")\n",
    "olympics['Sport'] = olympics['Sport'].astype(\"string\")\n",
    "olympics['Event'] = olympics['Event'].astype(\"string\")\n",
    "\n",
    "# Check New Types\n",
    "olympics.dtypes"
   ]
  },
  {
   "cell_type": "markdown",
   "id": "6e7cf231",
   "metadata": {},
   "source": [
    "Now we'll look at nulls and unique values in each column."
   ]
  },
  {
   "cell_type": "code",
   "execution_count": 37,
   "id": "6e8433f9",
   "metadata": {},
   "outputs": [
    {
     "data": {
      "text/plain": [
       "Name          0\n",
       "Sex           0\n",
       "Age        9474\n",
       "Team          0\n",
       "NOC           0\n",
       "Games         0\n",
       "City          0\n",
       "Sport         0\n",
       "Event         0\n",
       "Medal    231333\n",
       "dtype: int64"
      ]
     },
     "execution_count": 37,
     "metadata": {},
     "output_type": "execute_result"
    }
   ],
   "source": [
    "# Check for Null values\n",
    "olympics.isnull().sum()"
   ]
  },
  {
   "cell_type": "code",
   "execution_count": 38,
   "id": "8f51da34",
   "metadata": {},
   "outputs": [
    {
     "name": "stdout",
     "output_type": "stream",
     "text": [
      "Name:\t 134732  unique values\n",
      "Sex:\t 2 \t unique values\n",
      "Team:\t 1184 \t unique values\n",
      "NOC:\t 230 \t unique values\n",
      "Games:\t 51 \t unique values\n",
      "City:\t 42 \t unique values\n",
      "Sport:\t 66 \t unique values\n",
      "Event:\t 765 \t unique values\n",
      "Medal:\t 3 \t unique values\n"
     ]
    }
   ],
   "source": [
    "# Count Unique Values\n",
    "print('Name:\\t', olympics['Name'].nunique(), ' unique values')\n",
    "print('Sex:\\t', olympics['Sex'].nunique(), '\\t unique values')\n",
    "print('Team:\\t', olympics['Team'].nunique(), '\\t unique values')\n",
    "print('NOC:\\t', olympics['NOC'].nunique(), '\\t unique values')\n",
    "print('Games:\\t', olympics['Games'].nunique(), '\\t unique values')\n",
    "print('City:\\t', olympics['City'].nunique(), '\\t unique values')\n",
    "print('Sport:\\t', olympics['Sport'].nunique(), '\\t unique values')\n",
    "print('Event:\\t', olympics['Event'].nunique(), '\\t unique values')\n",
    "print('Medal:\\t', olympics['Medal'].nunique(), '\\t unique values')"
   ]
  },
  {
   "cell_type": "markdown",
   "id": "97183f1a",
   "metadata": {},
   "source": [
    "Let's address the null values in the age column. There are a couple ways we can do this. \n",
    "1. We can drop the null values \n",
    "2. We can replace the null values with an average\n",
    "\n",
    "Rather than dropping the null values, let's replace them with the average age for the sport. "
   ]
  },
  {
   "cell_type": "code",
   "execution_count": 39,
   "id": "a53f3853",
   "metadata": {},
   "outputs": [
    {
     "data": {
      "text/plain": [
       "Name          0\n",
       "Sex           0\n",
       "Age           0\n",
       "Team          0\n",
       "NOC           0\n",
       "Games         0\n",
       "City          0\n",
       "Sport         0\n",
       "Event         0\n",
       "Medal    231333\n",
       "dtype: int64"
      ]
     },
     "execution_count": 39,
     "metadata": {},
     "output_type": "execute_result"
    }
   ],
   "source": [
    "# Calculate the Average Age for Athletes in Each Sport and Replace Nulls\n",
    "olympics['Age'] = olympics['Age'].fillna(olympics.groupby('Sport')['Age'].transform('mean'))\n",
    "olympics.isnull().sum()"
   ]
  },
  {
   "cell_type": "markdown",
   "id": "a198a613",
   "metadata": {},
   "source": [
    "We still have null values in the medal column. These nulls correspond to athletes who did not win gold, silver, or bronze in their event. Let's replace these nulls with NoMedal."
   ]
  },
  {
   "cell_type": "code",
   "execution_count": 40,
   "id": "ef326d90",
   "metadata": {},
   "outputs": [],
   "source": [
    "# Replace nulls with NoMedal\n",
    "olympics['Medal'] = olympics['Medal'].fillna('NoMedal')\n",
    "\n",
    "# Set Medal Data Type to Category\n",
    "olympics['Medal'] = olympics['Medal'].astype(\"category\")"
   ]
  },
  {
   "cell_type": "markdown",
   "id": "d998ca0e",
   "metadata": {},
   "source": [
    "We removed the year and season columns because we can extract that information from the games column."
   ]
  },
  {
   "cell_type": "code",
   "execution_count": 41,
   "id": "b3021b56",
   "metadata": {},
   "outputs": [],
   "source": [
    "# Split Games into Year and Season\n",
    "olympics[['Year', 'Season']] = olympics['Games'].str.split(' ', 1, expand=True)\n",
    "\n",
    "# Year should be 'int' type\n",
    "olympics['Year'] = olympics['Year'].astype(\"int\")"
   ]
  },
  {
   "cell_type": "code",
   "execution_count": 42,
   "id": "4190b6c8",
   "metadata": {},
   "outputs": [
    {
     "data": {
      "text/plain": [
       "Name                Christine Jacoba Aaftink\n",
       "Sex                                        F\n",
       "Age                                     25.0\n",
       "Team                             Netherlands\n",
       "NOC                                      NED\n",
       "Games                            1992 Winter\n",
       "City                             Albertville\n",
       "Sport                          Speed Skating\n",
       "Event     Speed Skating Women's 1,000 metres\n",
       "Medal                                NoMedal\n",
       "Year                                    1992\n",
       "Season                                Winter\n",
       "Name: 7, dtype: object"
      ]
     },
     "execution_count": 42,
     "metadata": {},
     "output_type": "execute_result"
    }
   ],
   "source": [
    "# Spot Check Records\n",
    "olympics.loc[7]"
   ]
  },
  {
   "cell_type": "code",
   "execution_count": 43,
   "id": "a43defd4",
   "metadata": {
    "scrolled": true
   },
   "outputs": [
    {
     "data": {
      "text/plain": [
       "Name              Ibrahim Abdrabbou\n",
       "Sex                               M\n",
       "Age                            27.0\n",
       "Team                          Egypt\n",
       "NOC                             EGY\n",
       "Games                   1952 Summer\n",
       "City                       Helsinki\n",
       "Sport                        Boxing\n",
       "Event     Boxing Men's Bantamweight\n",
       "Medal                       NoMedal\n",
       "Year                           1952\n",
       "Season                       Summer\n",
       "Name: 491, dtype: object"
      ]
     },
     "execution_count": 43,
     "metadata": {},
     "output_type": "execute_result"
    }
   ],
   "source": [
    "olympics.loc[491]"
   ]
  },
  {
   "cell_type": "code",
   "execution_count": 44,
   "id": "c034524b",
   "metadata": {},
   "outputs": [
    {
     "data": {
      "text/plain": [
       "Name                      Julius Achon\n",
       "Sex                                  M\n",
       "Age                               19.0\n",
       "Team                            Uganda\n",
       "NOC                                UGA\n",
       "Games                      1996 Summer\n",
       "City                           Atlanta\n",
       "Sport                        Athletics\n",
       "Event     Athletics Men's 1,500 metres\n",
       "Medal                          NoMedal\n",
       "Year                              1996\n",
       "Season                          Summer\n",
       "Name: 1212, dtype: object"
      ]
     },
     "execution_count": 44,
     "metadata": {},
     "output_type": "execute_result"
    }
   ],
   "source": [
    "olympics.loc[1212]"
   ]
  },
  {
   "cell_type": "markdown",
   "id": "c637d15e",
   "metadata": {},
   "source": [
    "Now let's look at the Team and NOC fields."
   ]
  },
  {
   "cell_type": "code",
   "execution_count": 71,
   "id": "a9d15b63",
   "metadata": {},
   "outputs": [
    {
     "data": {
      "text/plain": [
       "Digby               1\n",
       "Hb-20               1\n",
       "Fantlet-2           1\n",
       "Greenoaks Dundee    1\n",
       "Newfoundland        1\n",
       "Ariette-8           1\n",
       "Calimucho           1\n",
       "Cinara-13           1\n",
       "Marsouin-26         1\n",
       "Name: Team, dtype: Int64"
      ]
     },
     "execution_count": 71,
     "metadata": {},
     "output_type": "execute_result"
    }
   ],
   "source": [
    "# What values are in the Team Column?\n",
    "olympics['Team'].value_counts(ascending=True)[0:9]"
   ]
  },
  {
   "cell_type": "code",
   "execution_count": 72,
   "id": "42a62748",
   "metadata": {},
   "outputs": [
    {
     "data": {
      "text/plain": [
       "NFL     1\n",
       "NBO     2\n",
       "UNK     2\n",
       "SSD     3\n",
       "YMD     5\n",
       "TUV     7\n",
       "KOS     8\n",
       "TLS     9\n",
       "BRU    10\n",
       "Name: NOC, dtype: Int64"
      ]
     },
     "execution_count": 72,
     "metadata": {},
     "output_type": "execute_result"
    }
   ],
   "source": [
    "# What values are in the NOC Column?\n",
    "olympics['NOC'].value_counts(ascending=True)[0:9]"
   ]
  },
  {
   "cell_type": "markdown",
   "id": "4cfa3de0",
   "metadata": {},
   "source": [
    "Upon review, many of the Team and NOC values above are not correct or current. We should take a look at how these match up and use the IOC list to correct them. "
   ]
  },
  {
   "cell_type": "code",
   "execution_count": 56,
   "id": "f54610cc",
   "metadata": {},
   "outputs": [
    {
     "data": {
      "text/plain": [
       "FRA    160\n",
       "USA     97\n",
       "GBR     96\n",
       "SWE     52\n",
       "NOR     46\n",
       "GER     43\n",
       "ITA     36\n",
       "CAN     32\n",
       "GRE     29\n",
       "DEN     29\n",
       "Name: NOC, dtype: Int64"
      ]
     },
     "execution_count": 56,
     "metadata": {},
     "output_type": "execute_result"
    }
   ],
   "source": [
    "# What Pairs of NOC and Team do we have?\n",
    "olympics.loc[:, ['NOC', 'Team']].drop_duplicates()['NOC'].value_counts().head(10)"
   ]
  },
  {
   "cell_type": "markdown",
   "id": "a8077018",
   "metadata": {},
   "source": [
    "This summary tells us that there are 160 unique team names that are associated with the NOC code FRA. The FRA code should be France. Let's look at some of those Teams. "
   ]
  },
  {
   "cell_type": "code",
   "execution_count": 61,
   "id": "958da4a0",
   "metadata": {},
   "outputs": [
    {
     "data": {
      "text/plain": [
       "France                                            11988\n",
       "France-1                                            135\n",
       "France-2                                            121\n",
       "Socit Nautique de Bayonne                            19\n",
       "Union des Socits Franais de Sports Athletiques       18\n",
       "                                                  ...  \n",
       "Carabinier-5                                          1\n",
       "Camille                                               1\n",
       "Freia-19                                              1\n",
       "Tornade-16                                            1\n",
       "Mignon-29                                             1\n",
       "Name: Team, Length: 160, dtype: Int64"
      ]
     },
     "execution_count": 61,
     "metadata": {},
     "output_type": "execute_result"
    }
   ],
   "source": [
    "# Filter the Dataframe\n",
    "fra = olympics.query('NOC == \"FRA\"')\n",
    "\n",
    "# Get Unique Team Values for the fra Dataframe\n",
    "#fra['Team'].value_counts(ascending=True)[0:24]\n",
    "fra['Team'].value_counts()"
   ]
  },
  {
   "cell_type": "markdown",
   "id": "cc2ec6af",
   "metadata": {},
   "source": [
    "The vast majority of the Teams in the fra dataframe are France, France-1, and France-2. The rest of the teams are associated with France so let's make sure the country is listed as France. \n",
    "\n",
    "To do this, we're going to join the olympics dataframe with the IOC dataframe. First, we need to load that data and do a little pre-processing. "
   ]
  },
  {
   "cell_type": "code",
   "execution_count": 62,
   "id": "cf73dad5",
   "metadata": {},
   "outputs": [
    {
     "data": {
      "text/html": [
       "<div>\n",
       "<style scoped>\n",
       "    .dataframe tbody tr th:only-of-type {\n",
       "        vertical-align: middle;\n",
       "    }\n",
       "\n",
       "    .dataframe tbody tr th {\n",
       "        vertical-align: top;\n",
       "    }\n",
       "\n",
       "    .dataframe thead th {\n",
       "        text-align: right;\n",
       "    }\n",
       "</style>\n",
       "<table border=\"1\" class=\"dataframe\">\n",
       "  <thead>\n",
       "    <tr style=\"text-align: right;\">\n",
       "      <th></th>\n",
       "      <th>Code</th>\n",
       "      <th>National Olympic Committee</th>\n",
       "    </tr>\n",
       "  </thead>\n",
       "  <tbody>\n",
       "    <tr>\n",
       "      <th>0</th>\n",
       "      <td>AFG</td>\n",
       "      <td>Afghanistan</td>\n",
       "    </tr>\n",
       "    <tr>\n",
       "      <th>1</th>\n",
       "      <td>AHO</td>\n",
       "      <td>Netherlands Antilles</td>\n",
       "    </tr>\n",
       "    <tr>\n",
       "      <th>2</th>\n",
       "      <td>ALB</td>\n",
       "      <td>Albania</td>\n",
       "    </tr>\n",
       "    <tr>\n",
       "      <th>3</th>\n",
       "      <td>ALG</td>\n",
       "      <td>Algeria</td>\n",
       "    </tr>\n",
       "    <tr>\n",
       "      <th>4</th>\n",
       "      <td>AND</td>\n",
       "      <td>Andorra</td>\n",
       "    </tr>\n",
       "  </tbody>\n",
       "</table>\n",
       "</div>"
      ],
      "text/plain": [
       "  Code National Olympic Committee\n",
       "0  AFG                Afghanistan\n",
       "1  AHO       Netherlands Antilles\n",
       "2  ALB                    Albania\n",
       "3  ALG                    Algeria\n",
       "4  AND                    Andorra"
      ]
     },
     "execution_count": 62,
     "metadata": {},
     "output_type": "execute_result"
    }
   ],
   "source": [
    "# Load the IOC dataset\n",
    "ioc = pd.read_csv('IOC_OlympicCommitteeCodes.csv', usecols=['Code', 'National Olympic Committee'])\n",
    "\n",
    "ioc.head()"
   ]
  },
  {
   "cell_type": "code",
   "execution_count": 63,
   "id": "dfe374a8",
   "metadata": {},
   "outputs": [
    {
     "data": {
      "text/plain": [
       "Code                          object\n",
       "National Olympic Committee    object\n",
       "dtype: object"
      ]
     },
     "execution_count": 63,
     "metadata": {},
     "output_type": "execute_result"
    }
   ],
   "source": [
    "# Check Types\n",
    "ioc.dtypes"
   ]
  },
  {
   "cell_type": "code",
   "execution_count": 65,
   "id": "ac07526d",
   "metadata": {},
   "outputs": [
    {
     "data": {
      "text/plain": [
       "Code                          string\n",
       "National Olympic Committee    string\n",
       "dtype: object"
      ]
     },
     "execution_count": 65,
     "metadata": {},
     "output_type": "execute_result"
    }
   ],
   "source": [
    "# Change Datatypes to string\n",
    "ioc['Code'] = ioc['Code'].astype(\"string\")\n",
    "ioc['National Olympic Committee'] = ioc['National Olympic Committee'].astype(\"string\")\n",
    "\n",
    "# Confirm Change\n",
    "ioc.dtypes"
   ]
  },
  {
   "cell_type": "code",
   "execution_count": 66,
   "id": "dc88f765",
   "metadata": {},
   "outputs": [
    {
     "data": {
      "text/plain": [
       "Code                          0\n",
       "National Olympic Committee    0\n",
       "dtype: int64"
      ]
     },
     "execution_count": 66,
     "metadata": {},
     "output_type": "execute_result"
    }
   ],
   "source": [
    "# Check for Null Values\n",
    "ioc.isnull().sum()"
   ]
  },
  {
   "cell_type": "markdown",
   "id": "e2d15291",
   "metadata": {},
   "source": [
    "Let's join the olympics dataframe with the ioc dataframe using the NOC column and the Code column. "
   ]
  },
  {
   "cell_type": "code",
   "execution_count": 69,
   "id": "d8d1b1f9",
   "metadata": {},
   "outputs": [
    {
     "data": {
      "text/html": [
       "<div>\n",
       "<style scoped>\n",
       "    .dataframe tbody tr th:only-of-type {\n",
       "        vertical-align: middle;\n",
       "    }\n",
       "\n",
       "    .dataframe tbody tr th {\n",
       "        vertical-align: top;\n",
       "    }\n",
       "\n",
       "    .dataframe thead th {\n",
       "        text-align: right;\n",
       "    }\n",
       "</style>\n",
       "<table border=\"1\" class=\"dataframe\">\n",
       "  <thead>\n",
       "    <tr style=\"text-align: right;\">\n",
       "      <th></th>\n",
       "      <th>Name</th>\n",
       "      <th>Sex</th>\n",
       "      <th>Age</th>\n",
       "      <th>Team</th>\n",
       "      <th>NOC</th>\n",
       "      <th>Games</th>\n",
       "      <th>City</th>\n",
       "      <th>Sport</th>\n",
       "      <th>Event</th>\n",
       "      <th>Medal</th>\n",
       "      <th>Year</th>\n",
       "      <th>Season</th>\n",
       "      <th>Code</th>\n",
       "      <th>National Olympic Committee</th>\n",
       "    </tr>\n",
       "  </thead>\n",
       "  <tbody>\n",
       "    <tr>\n",
       "      <th>0</th>\n",
       "      <td>A Dijiang</td>\n",
       "      <td>M</td>\n",
       "      <td>24.0</td>\n",
       "      <td>China</td>\n",
       "      <td>CHN</td>\n",
       "      <td>1992 Summer</td>\n",
       "      <td>Barcelona</td>\n",
       "      <td>Basketball</td>\n",
       "      <td>Basketball Men's Basketball</td>\n",
       "      <td>NoMedal</td>\n",
       "      <td>1992</td>\n",
       "      <td>Summer</td>\n",
       "      <td>CHN</td>\n",
       "      <td>China</td>\n",
       "    </tr>\n",
       "    <tr>\n",
       "      <th>1</th>\n",
       "      <td>A Lamusi</td>\n",
       "      <td>M</td>\n",
       "      <td>23.0</td>\n",
       "      <td>China</td>\n",
       "      <td>CHN</td>\n",
       "      <td>2012 Summer</td>\n",
       "      <td>London</td>\n",
       "      <td>Judo</td>\n",
       "      <td>Judo Men's Extra-Lightweight</td>\n",
       "      <td>NoMedal</td>\n",
       "      <td>2012</td>\n",
       "      <td>Summer</td>\n",
       "      <td>CHN</td>\n",
       "      <td>China</td>\n",
       "    </tr>\n",
       "    <tr>\n",
       "      <th>2</th>\n",
       "      <td>Gunnar Nielsen Aaby</td>\n",
       "      <td>M</td>\n",
       "      <td>24.0</td>\n",
       "      <td>Denmark</td>\n",
       "      <td>DEN</td>\n",
       "      <td>1920 Summer</td>\n",
       "      <td>Antwerpen</td>\n",
       "      <td>Football</td>\n",
       "      <td>Football Men's Football</td>\n",
       "      <td>NoMedal</td>\n",
       "      <td>1920</td>\n",
       "      <td>Summer</td>\n",
       "      <td>DEN</td>\n",
       "      <td>Denmark</td>\n",
       "    </tr>\n",
       "    <tr>\n",
       "      <th>3</th>\n",
       "      <td>Edgar Lindenau Aabye</td>\n",
       "      <td>M</td>\n",
       "      <td>34.0</td>\n",
       "      <td>Denmark/Sweden</td>\n",
       "      <td>DEN</td>\n",
       "      <td>1900 Summer</td>\n",
       "      <td>Paris</td>\n",
       "      <td>Tug-Of-War</td>\n",
       "      <td>Tug-Of-War Men's Tug-Of-War</td>\n",
       "      <td>Gold</td>\n",
       "      <td>1900</td>\n",
       "      <td>Summer</td>\n",
       "      <td>DEN</td>\n",
       "      <td>Denmark</td>\n",
       "    </tr>\n",
       "    <tr>\n",
       "      <th>4</th>\n",
       "      <td>Christine Jacoba Aaftink</td>\n",
       "      <td>F</td>\n",
       "      <td>21.0</td>\n",
       "      <td>Netherlands</td>\n",
       "      <td>NED</td>\n",
       "      <td>1988 Winter</td>\n",
       "      <td>Calgary</td>\n",
       "      <td>Speed Skating</td>\n",
       "      <td>Speed Skating Women's 500 metres</td>\n",
       "      <td>NoMedal</td>\n",
       "      <td>1988</td>\n",
       "      <td>Winter</td>\n",
       "      <td>NED</td>\n",
       "      <td>Netherlands</td>\n",
       "    </tr>\n",
       "  </tbody>\n",
       "</table>\n",
       "</div>"
      ],
      "text/plain": [
       "                       Name Sex   Age            Team  NOC        Games  \\\n",
       "0                 A Dijiang   M  24.0           China  CHN  1992 Summer   \n",
       "1                  A Lamusi   M  23.0           China  CHN  2012 Summer   \n",
       "2       Gunnar Nielsen Aaby   M  24.0         Denmark  DEN  1920 Summer   \n",
       "3      Edgar Lindenau Aabye   M  34.0  Denmark/Sweden  DEN  1900 Summer   \n",
       "4  Christine Jacoba Aaftink   F  21.0     Netherlands  NED  1988 Winter   \n",
       "\n",
       "        City          Sport                             Event    Medal  Year  \\\n",
       "0  Barcelona     Basketball       Basketball Men's Basketball  NoMedal  1992   \n",
       "1     London           Judo      Judo Men's Extra-Lightweight  NoMedal  2012   \n",
       "2  Antwerpen       Football           Football Men's Football  NoMedal  1920   \n",
       "3      Paris     Tug-Of-War       Tug-Of-War Men's Tug-Of-War     Gold  1900   \n",
       "4    Calgary  Speed Skating  Speed Skating Women's 500 metres  NoMedal  1988   \n",
       "\n",
       "   Season Code National Olympic Committee  \n",
       "0  Summer  CHN                      China  \n",
       "1  Summer  CHN                      China  \n",
       "2  Summer  DEN                    Denmark  \n",
       "3  Summer  DEN                    Denmark  \n",
       "4  Winter  NED                Netherlands  "
      ]
     },
     "execution_count": 69,
     "metadata": {},
     "output_type": "execute_result"
    }
   ],
   "source": [
    "# Join Dataframes\n",
    "olympics_ioc = pd.merge(olympics, ioc, how = 'left', left_on='NOC', right_on='Code')\n",
    "\n",
    "olympics_ioc.head()"
   ]
  },
  {
   "cell_type": "code",
   "execution_count": 70,
   "id": "c0da873c",
   "metadata": {},
   "outputs": [],
   "source": [
    "# Rename National Olympic Committee to Country\n",
    "olympics_ioc = olympics_ioc.rename(columns = {'National Olympic Committee': 'Country'})"
   ]
  },
  {
   "cell_type": "markdown",
   "id": "401cf08c",
   "metadata": {},
   "source": [
    "The last dataset we'll use in this analysis is the temperature dataset. Let's load that into a dataframe and process it so we can join it with the olympics_ioc dataframe."
   ]
  },
  {
   "cell_type": "code",
   "execution_count": 73,
   "id": "9f5b42be",
   "metadata": {},
   "outputs": [
    {
     "name": "stdout",
     "output_type": "stream",
     "text": [
      "<class 'pandas.core.frame.DataFrame'>\n",
      "RangeIndex: 577462 entries, 0 to 577461\n",
      "Data columns (total 4 columns):\n",
      " #   Column                         Non-Null Count   Dtype  \n",
      "---  ------                         --------------   -----  \n",
      " 0   dt                             577462 non-null  object \n",
      " 1   AverageTemperature             544811 non-null  float64\n",
      " 2   AverageTemperatureUncertainty  545550 non-null  float64\n",
      " 3   Country                        577462 non-null  object \n",
      "dtypes: float64(2), object(2)\n",
      "memory usage: 17.6+ MB\n"
     ]
    },
    {
     "data": {
      "text/html": [
       "<div>\n",
       "<style scoped>\n",
       "    .dataframe tbody tr th:only-of-type {\n",
       "        vertical-align: middle;\n",
       "    }\n",
       "\n",
       "    .dataframe tbody tr th {\n",
       "        vertical-align: top;\n",
       "    }\n",
       "\n",
       "    .dataframe thead th {\n",
       "        text-align: right;\n",
       "    }\n",
       "</style>\n",
       "<table border=\"1\" class=\"dataframe\">\n",
       "  <thead>\n",
       "    <tr style=\"text-align: right;\">\n",
       "      <th></th>\n",
       "      <th>dt</th>\n",
       "      <th>AverageTemperature</th>\n",
       "      <th>AverageTemperatureUncertainty</th>\n",
       "      <th>Country</th>\n",
       "    </tr>\n",
       "  </thead>\n",
       "  <tbody>\n",
       "    <tr>\n",
       "      <th>0</th>\n",
       "      <td>1743-11-01</td>\n",
       "      <td>4.384</td>\n",
       "      <td>2.294</td>\n",
       "      <td>Åland</td>\n",
       "    </tr>\n",
       "    <tr>\n",
       "      <th>1</th>\n",
       "      <td>1743-12-01</td>\n",
       "      <td>NaN</td>\n",
       "      <td>NaN</td>\n",
       "      <td>Åland</td>\n",
       "    </tr>\n",
       "    <tr>\n",
       "      <th>2</th>\n",
       "      <td>1744-01-01</td>\n",
       "      <td>NaN</td>\n",
       "      <td>NaN</td>\n",
       "      <td>Åland</td>\n",
       "    </tr>\n",
       "    <tr>\n",
       "      <th>3</th>\n",
       "      <td>1744-02-01</td>\n",
       "      <td>NaN</td>\n",
       "      <td>NaN</td>\n",
       "      <td>Åland</td>\n",
       "    </tr>\n",
       "    <tr>\n",
       "      <th>4</th>\n",
       "      <td>1744-03-01</td>\n",
       "      <td>NaN</td>\n",
       "      <td>NaN</td>\n",
       "      <td>Åland</td>\n",
       "    </tr>\n",
       "  </tbody>\n",
       "</table>\n",
       "</div>"
      ],
      "text/plain": [
       "           dt  AverageTemperature  AverageTemperatureUncertainty Country\n",
       "0  1743-11-01               4.384                          2.294   Åland\n",
       "1  1743-12-01                 NaN                            NaN   Åland\n",
       "2  1744-01-01                 NaN                            NaN   Åland\n",
       "3  1744-02-01                 NaN                            NaN   Åland\n",
       "4  1744-03-01                 NaN                            NaN   Åland"
      ]
     },
     "execution_count": 73,
     "metadata": {},
     "output_type": "execute_result"
    }
   ],
   "source": [
    "# Load temperature data\n",
    "temp = pd.read_csv('GlobalLandTemperaturesByCountry.csv')\n",
    "\n",
    "temp.info()\n",
    "temp.head()"
   ]
  },
  {
   "cell_type": "markdown",
   "id": "1fb3a4ab",
   "metadata": {},
   "source": [
    "Temperatures are floats in degrees Celcius. Date column is an object which needs to be converted to a date time. There are several thousand null values in the temperature fields. The data also goes back to the 1700's, which is farther back than we really need.\n",
    "\n",
    "We will convert the date column to a date, convert the average temperature to Fahrenheit, drop null values, and retain only observations after 1900."
   ]
  },
  {
   "cell_type": "code",
   "execution_count": 74,
   "id": "3807b636",
   "metadata": {},
   "outputs": [
    {
     "name": "stdout",
     "output_type": "stream",
     "text": [
      "<class 'pandas.core.frame.DataFrame'>\n",
      "RangeIndex: 577462 entries, 0 to 577461\n",
      "Data columns (total 5 columns):\n",
      " #   Column                         Non-Null Count   Dtype         \n",
      "---  ------                         --------------   -----         \n",
      " 0   dt                             577462 non-null  object        \n",
      " 1   AverageTemperature             544811 non-null  float64       \n",
      " 2   AverageTemperatureUncertainty  545550 non-null  float64       \n",
      " 3   Country                        577462 non-null  object        \n",
      " 4   Date                           577462 non-null  datetime64[ns]\n",
      "dtypes: datetime64[ns](1), float64(2), object(2)\n",
      "memory usage: 22.0+ MB\n"
     ]
    }
   ],
   "source": [
    "# Convert date column to datetime\n",
    "temp['Date']=temp['dt'].apply(lambda x: datetime.datetime.strptime(x, '%Y-%m-%d'))\n",
    "temp.info()"
   ]
  },
  {
   "cell_type": "code",
   "execution_count": 75,
   "id": "820ff46b",
   "metadata": {},
   "outputs": [
    {
     "data": {
      "text/html": [
       "<div>\n",
       "<style scoped>\n",
       "    .dataframe tbody tr th:only-of-type {\n",
       "        vertical-align: middle;\n",
       "    }\n",
       "\n",
       "    .dataframe tbody tr th {\n",
       "        vertical-align: top;\n",
       "    }\n",
       "\n",
       "    .dataframe thead th {\n",
       "        text-align: right;\n",
       "    }\n",
       "</style>\n",
       "<table border=\"1\" class=\"dataframe\">\n",
       "  <thead>\n",
       "    <tr style=\"text-align: right;\">\n",
       "      <th></th>\n",
       "      <th>dt</th>\n",
       "      <th>AverageTemperature</th>\n",
       "      <th>AverageTemperatureUncertainty</th>\n",
       "      <th>Country</th>\n",
       "      <th>Date</th>\n",
       "    </tr>\n",
       "  </thead>\n",
       "  <tbody>\n",
       "    <tr>\n",
       "      <th>1874</th>\n",
       "      <td>1900-01-01</td>\n",
       "      <td>-3.026</td>\n",
       "      <td>0.538</td>\n",
       "      <td>Åland</td>\n",
       "      <td>1900-01-01</td>\n",
       "    </tr>\n",
       "    <tr>\n",
       "      <th>1875</th>\n",
       "      <td>1900-02-01</td>\n",
       "      <td>-8.063</td>\n",
       "      <td>0.657</td>\n",
       "      <td>Åland</td>\n",
       "      <td>1900-02-01</td>\n",
       "    </tr>\n",
       "    <tr>\n",
       "      <th>1876</th>\n",
       "      <td>1900-03-01</td>\n",
       "      <td>-3.196</td>\n",
       "      <td>0.467</td>\n",
       "      <td>Åland</td>\n",
       "      <td>1900-03-01</td>\n",
       "    </tr>\n",
       "    <tr>\n",
       "      <th>1877</th>\n",
       "      <td>1900-04-01</td>\n",
       "      <td>0.781</td>\n",
       "      <td>0.224</td>\n",
       "      <td>Åland</td>\n",
       "      <td>1900-04-01</td>\n",
       "    </tr>\n",
       "    <tr>\n",
       "      <th>1878</th>\n",
       "      <td>1900-05-01</td>\n",
       "      <td>4.960</td>\n",
       "      <td>0.503</td>\n",
       "      <td>Åland</td>\n",
       "      <td>1900-05-01</td>\n",
       "    </tr>\n",
       "  </tbody>\n",
       "</table>\n",
       "</div>"
      ],
      "text/plain": [
       "              dt  AverageTemperature  AverageTemperatureUncertainty Country  \\\n",
       "1874  1900-01-01              -3.026                          0.538   Åland   \n",
       "1875  1900-02-01              -8.063                          0.657   Åland   \n",
       "1876  1900-03-01              -3.196                          0.467   Åland   \n",
       "1877  1900-04-01               0.781                          0.224   Åland   \n",
       "1878  1900-05-01               4.960                          0.503   Åland   \n",
       "\n",
       "           Date  \n",
       "1874 1900-01-01  \n",
       "1875 1900-02-01  \n",
       "1876 1900-03-01  \n",
       "1877 1900-04-01  \n",
       "1878 1900-05-01  "
      ]
     },
     "execution_count": 75,
     "metadata": {},
     "output_type": "execute_result"
    }
   ],
   "source": [
    "#1900 to date\n",
    "temp=temp[temp['Date']>='1900-01-01']\n",
    "temp.head()"
   ]
  },
  {
   "cell_type": "code",
   "execution_count": 76,
   "id": "84052a2b",
   "metadata": {},
   "outputs": [
    {
     "data": {
      "text/plain": [
       "dt                                  0\n",
       "AverageTemperature               1050\n",
       "AverageTemperatureUncertainty     311\n",
       "Country                             0\n",
       "Date                                0\n",
       "dtype: int64"
      ]
     },
     "execution_count": 76,
     "metadata": {},
     "output_type": "execute_result"
    }
   ],
   "source": [
    "# Check Nulls\n",
    "temp.isnull().sum()"
   ]
  },
  {
   "cell_type": "markdown",
   "id": "18284ff8",
   "metadata": {},
   "source": [
    "There are 1050 missing temperature values. Let's investigate those missing values. "
   ]
  },
  {
   "cell_type": "code",
   "execution_count": 77,
   "id": "742e2edb",
   "metadata": {},
   "outputs": [
    {
     "data": {
      "text/html": [
       "<div>\n",
       "<style scoped>\n",
       "    .dataframe tbody tr th:only-of-type {\n",
       "        vertical-align: middle;\n",
       "    }\n",
       "\n",
       "    .dataframe tbody tr th {\n",
       "        vertical-align: top;\n",
       "    }\n",
       "\n",
       "    .dataframe thead th {\n",
       "        text-align: right;\n",
       "    }\n",
       "</style>\n",
       "<table border=\"1\" class=\"dataframe\">\n",
       "  <thead>\n",
       "    <tr style=\"text-align: right;\">\n",
       "      <th></th>\n",
       "      <th>dt</th>\n",
       "      <th>AverageTemperature</th>\n",
       "      <th>AverageTemperatureUncertainty</th>\n",
       "      <th>Country</th>\n",
       "      <th>Date</th>\n",
       "    </tr>\n",
       "  </thead>\n",
       "  <tbody>\n",
       "    <tr>\n",
       "      <th>3238</th>\n",
       "      <td>2013-09-01</td>\n",
       "      <td>NaN</td>\n",
       "      <td>NaN</td>\n",
       "      <td>Åland</td>\n",
       "      <td>2013-09-01</td>\n",
       "    </tr>\n",
       "    <tr>\n",
       "      <th>5344</th>\n",
       "      <td>2013-09-01</td>\n",
       "      <td>NaN</td>\n",
       "      <td>NaN</td>\n",
       "      <td>Afghanistan</td>\n",
       "      <td>2013-09-01</td>\n",
       "    </tr>\n",
       "    <tr>\n",
       "      <th>7309</th>\n",
       "      <td>2013-09-01</td>\n",
       "      <td>NaN</td>\n",
       "      <td>NaN</td>\n",
       "      <td>Africa</td>\n",
       "      <td>2013-09-01</td>\n",
       "    </tr>\n",
       "    <tr>\n",
       "      <th>10548</th>\n",
       "      <td>2013-09-01</td>\n",
       "      <td>NaN</td>\n",
       "      <td>NaN</td>\n",
       "      <td>Albania</td>\n",
       "      <td>2013-09-01</td>\n",
       "    </tr>\n",
       "    <tr>\n",
       "      <th>13269</th>\n",
       "      <td>2013-09-01</td>\n",
       "      <td>NaN</td>\n",
       "      <td>NaN</td>\n",
       "      <td>Algeria</td>\n",
       "      <td>2013-09-01</td>\n",
       "    </tr>\n",
       "    <tr>\n",
       "      <th>...</th>\n",
       "      <td>...</td>\n",
       "      <td>...</td>\n",
       "      <td>...</td>\n",
       "      <td>...</td>\n",
       "      <td>...</td>\n",
       "    </tr>\n",
       "    <tr>\n",
       "      <th>566880</th>\n",
       "      <td>2013-09-01</td>\n",
       "      <td>NaN</td>\n",
       "      <td>NaN</td>\n",
       "      <td>Vietnam</td>\n",
       "      <td>2013-09-01</td>\n",
       "    </tr>\n",
       "    <tr>\n",
       "      <th>571878</th>\n",
       "      <td>2013-09-01</td>\n",
       "      <td>NaN</td>\n",
       "      <td>NaN</td>\n",
       "      <td>Western Sahara</td>\n",
       "      <td>2013-09-01</td>\n",
       "    </tr>\n",
       "    <tr>\n",
       "      <th>573531</th>\n",
       "      <td>2013-09-01</td>\n",
       "      <td>NaN</td>\n",
       "      <td>NaN</td>\n",
       "      <td>Yemen</td>\n",
       "      <td>2013-09-01</td>\n",
       "    </tr>\n",
       "    <tr>\n",
       "      <th>575496</th>\n",
       "      <td>2013-09-01</td>\n",
       "      <td>NaN</td>\n",
       "      <td>NaN</td>\n",
       "      <td>Zambia</td>\n",
       "      <td>2013-09-01</td>\n",
       "    </tr>\n",
       "    <tr>\n",
       "      <th>577461</th>\n",
       "      <td>2013-09-01</td>\n",
       "      <td>NaN</td>\n",
       "      <td>NaN</td>\n",
       "      <td>Zimbabwe</td>\n",
       "      <td>2013-09-01</td>\n",
       "    </tr>\n",
       "  </tbody>\n",
       "</table>\n",
       "<p>1050 rows × 5 columns</p>\n",
       "</div>"
      ],
      "text/plain": [
       "                dt  AverageTemperature  AverageTemperatureUncertainty  \\\n",
       "3238    2013-09-01                 NaN                            NaN   \n",
       "5344    2013-09-01                 NaN                            NaN   \n",
       "7309    2013-09-01                 NaN                            NaN   \n",
       "10548   2013-09-01                 NaN                            NaN   \n",
       "13269   2013-09-01                 NaN                            NaN   \n",
       "...            ...                 ...                            ...   \n",
       "566880  2013-09-01                 NaN                            NaN   \n",
       "571878  2013-09-01                 NaN                            NaN   \n",
       "573531  2013-09-01                 NaN                            NaN   \n",
       "575496  2013-09-01                 NaN                            NaN   \n",
       "577461  2013-09-01                 NaN                            NaN   \n",
       "\n",
       "               Country       Date  \n",
       "3238             Åland 2013-09-01  \n",
       "5344       Afghanistan 2013-09-01  \n",
       "7309            Africa 2013-09-01  \n",
       "10548          Albania 2013-09-01  \n",
       "13269          Algeria 2013-09-01  \n",
       "...                ...        ...  \n",
       "566880         Vietnam 2013-09-01  \n",
       "571878  Western Sahara 2013-09-01  \n",
       "573531           Yemen 2013-09-01  \n",
       "575496          Zambia 2013-09-01  \n",
       "577461        Zimbabwe 2013-09-01  \n",
       "\n",
       "[1050 rows x 5 columns]"
      ]
     },
     "execution_count": 77,
     "metadata": {},
     "output_type": "execute_result"
    }
   ],
   "source": [
    "#Display some of the observations with missing temperature values\n",
    "temp[temp['AverageTemperature'].isnull()]"
   ]
  },
  {
   "cell_type": "markdown",
   "id": "554c7336",
   "metadata": {},
   "source": [
    "Each of these observations is dated 9/1/2013. What is the most recent set of observation dates?"
   ]
  },
  {
   "cell_type": "code",
   "execution_count": 78,
   "id": "f9f9cd75",
   "metadata": {},
   "outputs": [
    {
     "data": {
      "text/plain": [
       "Timestamp('2013-09-01 00:00:00')"
      ]
     },
     "execution_count": 78,
     "metadata": {},
     "output_type": "execute_result"
    }
   ],
   "source": [
    "# Find max date\n",
    "max(temp['Date'])"
   ]
  },
  {
   "cell_type": "markdown",
   "id": "98b5d63c",
   "metadata": {},
   "source": [
    "Are there other missing date values?"
   ]
  },
  {
   "cell_type": "code",
   "execution_count": 79,
   "id": "e51d3fe2",
   "metadata": {},
   "outputs": [
    {
     "data": {
      "text/html": [
       "<div>\n",
       "<style scoped>\n",
       "    .dataframe tbody tr th:only-of-type {\n",
       "        vertical-align: middle;\n",
       "    }\n",
       "\n",
       "    .dataframe tbody tr th {\n",
       "        vertical-align: top;\n",
       "    }\n",
       "\n",
       "    .dataframe thead th {\n",
       "        text-align: right;\n",
       "    }\n",
       "</style>\n",
       "<table border=\"1\" class=\"dataframe\">\n",
       "  <thead>\n",
       "    <tr style=\"text-align: right;\">\n",
       "      <th></th>\n",
       "      <th>dt</th>\n",
       "      <th>AverageTemperature</th>\n",
       "      <th>AverageTemperatureUncertainty</th>\n",
       "      <th>Country</th>\n",
       "    </tr>\n",
       "    <tr>\n",
       "      <th>Date</th>\n",
       "      <th></th>\n",
       "      <th></th>\n",
       "      <th></th>\n",
       "      <th></th>\n",
       "    </tr>\n",
       "  </thead>\n",
       "  <tbody>\n",
       "    <tr>\n",
       "      <th>1900-01-01</th>\n",
       "      <td>2</td>\n",
       "      <td>0</td>\n",
       "      <td>0</td>\n",
       "      <td>2</td>\n",
       "    </tr>\n",
       "    <tr>\n",
       "      <th>1900-02-01</th>\n",
       "      <td>2</td>\n",
       "      <td>0</td>\n",
       "      <td>0</td>\n",
       "      <td>2</td>\n",
       "    </tr>\n",
       "    <tr>\n",
       "      <th>1900-03-01</th>\n",
       "      <td>2</td>\n",
       "      <td>0</td>\n",
       "      <td>0</td>\n",
       "      <td>2</td>\n",
       "    </tr>\n",
       "    <tr>\n",
       "      <th>1900-04-01</th>\n",
       "      <td>2</td>\n",
       "      <td>0</td>\n",
       "      <td>0</td>\n",
       "      <td>2</td>\n",
       "    </tr>\n",
       "    <tr>\n",
       "      <th>1900-05-01</th>\n",
       "      <td>2</td>\n",
       "      <td>0</td>\n",
       "      <td>0</td>\n",
       "      <td>2</td>\n",
       "    </tr>\n",
       "    <tr>\n",
       "      <th>...</th>\n",
       "      <td>...</td>\n",
       "      <td>...</td>\n",
       "      <td>...</td>\n",
       "      <td>...</td>\n",
       "    </tr>\n",
       "    <tr>\n",
       "      <th>2013-05-01</th>\n",
       "      <td>1</td>\n",
       "      <td>0</td>\n",
       "      <td>1</td>\n",
       "      <td>1</td>\n",
       "    </tr>\n",
       "    <tr>\n",
       "      <th>2013-06-01</th>\n",
       "      <td>1</td>\n",
       "      <td>0</td>\n",
       "      <td>1</td>\n",
       "      <td>1</td>\n",
       "    </tr>\n",
       "    <tr>\n",
       "      <th>2013-07-01</th>\n",
       "      <td>1</td>\n",
       "      <td>0</td>\n",
       "      <td>1</td>\n",
       "      <td>1</td>\n",
       "    </tr>\n",
       "    <tr>\n",
       "      <th>2013-08-01</th>\n",
       "      <td>1</td>\n",
       "      <td>0</td>\n",
       "      <td>1</td>\n",
       "      <td>1</td>\n",
       "    </tr>\n",
       "    <tr>\n",
       "      <th>2013-09-01</th>\n",
       "      <td>222</td>\n",
       "      <td>0</td>\n",
       "      <td>0</td>\n",
       "      <td>222</td>\n",
       "    </tr>\n",
       "  </tbody>\n",
       "</table>\n",
       "<p>808 rows × 4 columns</p>\n",
       "</div>"
      ],
      "text/plain": [
       "             dt  AverageTemperature  AverageTemperatureUncertainty  Country\n",
       "Date                                                                       \n",
       "1900-01-01    2                   0                              0        2\n",
       "1900-02-01    2                   0                              0        2\n",
       "1900-03-01    2                   0                              0        2\n",
       "1900-04-01    2                   0                              0        2\n",
       "1900-05-01    2                   0                              0        2\n",
       "...         ...                 ...                            ...      ...\n",
       "2013-05-01    1                   0                              1        1\n",
       "2013-06-01    1                   0                              1        1\n",
       "2013-07-01    1                   0                              1        1\n",
       "2013-08-01    1                   0                              1        1\n",
       "2013-09-01  222                   0                              0      222\n",
       "\n",
       "[808 rows x 4 columns]"
      ]
     },
     "execution_count": 79,
     "metadata": {},
     "output_type": "execute_result"
    }
   ],
   "source": [
    "# Find Null Values by Date\n",
    "temp[temp['AverageTemperature'].isnull()].groupby('Date').count()"
   ]
  },
  {
   "cell_type": "markdown",
   "id": "1a6147cc",
   "metadata": {},
   "source": [
    "222 of 243 of the observations for 9/1/2013 contain missing temperature values. This could indicate incomplete data for 9/1/2013. Due to the high rate of missing values for 9/1/2013 and it being the last date in the data set, we will drop observations related to September 2013."
   ]
  },
  {
   "cell_type": "code",
   "execution_count": 80,
   "id": "67c8ff3a",
   "metadata": {},
   "outputs": [
    {
     "data": {
      "text/plain": [
       "828"
      ]
     },
     "execution_count": 80,
     "metadata": {},
     "output_type": "execute_result"
    }
   ],
   "source": [
    "temp=temp[temp['Date']!='2013-09-01']\n",
    "temp['AverageTemperature'].isnull().sum()"
   ]
  },
  {
   "cell_type": "markdown",
   "id": "57ab7f1e",
   "metadata": {},
   "source": [
    "We still have 828 other missing values. Are these missing data common in certain countries?"
   ]
  },
  {
   "cell_type": "code",
   "execution_count": 81,
   "id": "301f1ed7",
   "metadata": {},
   "outputs": [
    {
     "data": {
      "text/html": [
       "<div>\n",
       "<style scoped>\n",
       "    .dataframe tbody tr th:only-of-type {\n",
       "        vertical-align: middle;\n",
       "    }\n",
       "\n",
       "    .dataframe tbody tr th {\n",
       "        vertical-align: top;\n",
       "    }\n",
       "\n",
       "    .dataframe thead th {\n",
       "        text-align: right;\n",
       "    }\n",
       "</style>\n",
       "<table border=\"1\" class=\"dataframe\">\n",
       "  <thead>\n",
       "    <tr style=\"text-align: right;\">\n",
       "      <th></th>\n",
       "      <th>dt</th>\n",
       "      <th>AverageTemperature</th>\n",
       "      <th>AverageTemperatureUncertainty</th>\n",
       "      <th>Date</th>\n",
       "    </tr>\n",
       "    <tr>\n",
       "      <th>Country</th>\n",
       "      <th></th>\n",
       "      <th></th>\n",
       "      <th></th>\n",
       "      <th></th>\n",
       "    </tr>\n",
       "  </thead>\n",
       "  <tbody>\n",
       "    <tr>\n",
       "      <th>Antarctica</th>\n",
       "      <td>763</td>\n",
       "      <td>0</td>\n",
       "      <td>739</td>\n",
       "      <td>763</td>\n",
       "    </tr>\n",
       "    <tr>\n",
       "      <th>Federated States Of Micronesia</th>\n",
       "      <td>30</td>\n",
       "      <td>0</td>\n",
       "      <td>0</td>\n",
       "      <td>30</td>\n",
       "    </tr>\n",
       "    <tr>\n",
       "      <th>French Polynesia</th>\n",
       "      <td>6</td>\n",
       "      <td>0</td>\n",
       "      <td>0</td>\n",
       "      <td>6</td>\n",
       "    </tr>\n",
       "    <tr>\n",
       "      <th>French Southern And Antarctic Lands</th>\n",
       "      <td>4</td>\n",
       "      <td>0</td>\n",
       "      <td>0</td>\n",
       "      <td>4</td>\n",
       "    </tr>\n",
       "    <tr>\n",
       "      <th>Heard Island And Mcdonald Islands</th>\n",
       "      <td>4</td>\n",
       "      <td>0</td>\n",
       "      <td>0</td>\n",
       "      <td>4</td>\n",
       "    </tr>\n",
       "    <tr>\n",
       "      <th>Palau</th>\n",
       "      <td>20</td>\n",
       "      <td>0</td>\n",
       "      <td>0</td>\n",
       "      <td>20</td>\n",
       "    </tr>\n",
       "    <tr>\n",
       "      <th>South Georgia And The South Sandwich Isla</th>\n",
       "      <td>1</td>\n",
       "      <td>0</td>\n",
       "      <td>0</td>\n",
       "      <td>1</td>\n",
       "    </tr>\n",
       "  </tbody>\n",
       "</table>\n",
       "</div>"
      ],
      "text/plain": [
       "                                            dt  AverageTemperature  \\\n",
       "Country                                                              \n",
       "Antarctica                                 763                   0   \n",
       "Federated States Of Micronesia              30                   0   \n",
       "French Polynesia                             6                   0   \n",
       "French Southern And Antarctic Lands          4                   0   \n",
       "Heard Island And Mcdonald Islands            4                   0   \n",
       "Palau                                       20                   0   \n",
       "South Georgia And The South Sandwich Isla    1                   0   \n",
       "\n",
       "                                           AverageTemperatureUncertainty  Date  \n",
       "Country                                                                         \n",
       "Antarctica                                                           739   763  \n",
       "Federated States Of Micronesia                                         0    30  \n",
       "French Polynesia                                                       0     6  \n",
       "French Southern And Antarctic Lands                                    0     4  \n",
       "Heard Island And Mcdonald Islands                                      0     4  \n",
       "Palau                                                                  0    20  \n",
       "South Georgia And The South Sandwich Isla                              0     1  "
      ]
     },
     "execution_count": 81,
     "metadata": {},
     "output_type": "execute_result"
    }
   ],
   "source": [
    "temp[temp['AverageTemperature'].isnull()].groupby('Country').count()"
   ]
  },
  {
   "cell_type": "markdown",
   "id": "dbf00c95",
   "metadata": {},
   "source": [
    "Antarctica is the source of the majority of the missing temperature values. The continent of Antarctica is not a country we are concerned with determining the climate and will be dropped. The other missing values are concentrated to a handful of small, mostly island nations.\n",
    "Let's look more closely at the missing data to determine if there is a pattern."
   ]
  },
  {
   "cell_type": "code",
   "execution_count": 82,
   "id": "1d67c583",
   "metadata": {},
   "outputs": [
    {
     "data": {
      "text/plain": [
       "Timestamp('1902-12-01 00:00:00')"
      ]
     },
     "execution_count": 82,
     "metadata": {},
     "output_type": "execute_result"
    }
   ],
   "source": [
    "temp[(temp['Country']=='French Southern And Antarctic Lands') & (temp['AverageTemperature'].isnull())]\n",
    "#French Southern And Antarctic Lands is missing the first 2 months of observations recorded for it and then two in a row the following year.\n",
    "#Backfill or drop\n",
    "\n",
    "temp[(temp['Country']=='Federated States Of Micronesia') & (temp['AverageTemperature'].isnull())]\n",
    "#Federated States Of Micronesia is missing the first 2 full years of observations and then a string of 7 months in a row.\n",
    "#Drop these\n",
    "\n",
    "temp[(temp['Country']=='French Polynesia') & (temp['AverageTemperature'].isnull())]\n",
    "#French Polynesia is missing the first 4 observations and then 2 other nonconsecutive\n",
    "#Fill or drop\n",
    "\n",
    "temp[(temp['Country']=='Heard Island And Mcdonald Islands') & (temp['AverageTemperature'].isnull())]\n",
    "#Similar to the French Southern Lands, Heard Island And Mcdonald Islands is missing the first 2 months and then 2 more next year\n",
    "\n",
    "temp[(temp['Country']=='Palau') & (temp['AverageTemperature'].isnull())]\n",
    "#Palau is missing almost all the observations in the first 2 years.\n",
    "#Drop these\n",
    "\n",
    "temp[(temp['Country']=='South Georgia And The South Sandwich Isla') & (temp['AverageTemperature'].isnull())]['Date'].min()\n",
    "#South Georgia And The South Sandwich Isla is missing it's first observation\n",
    "#Drop or backfill"
   ]
  },
  {
   "cell_type": "markdown",
   "id": "795c3550",
   "metadata": {},
   "source": [
    "For simplicity, let's drop all missing values."
   ]
  },
  {
   "cell_type": "code",
   "execution_count": 83,
   "id": "051fe3e6",
   "metadata": {},
   "outputs": [
    {
     "name": "stdout",
     "output_type": "stream",
     "text": [
      "<class 'pandas.core.frame.DataFrame'>\n",
      "Int64Index: 328797 entries, 1874 to 577460\n",
      "Data columns (total 4 columns):\n",
      " #   Column                         Non-Null Count   Dtype         \n",
      "---  ------                         --------------   -----         \n",
      " 0   AverageTemperature             328797 non-null  float64       \n",
      " 1   AverageTemperatureUncertainty  328797 non-null  float64       \n",
      " 2   Country                        328797 non-null  object        \n",
      " 3   Date                           328797 non-null  datetime64[ns]\n",
      "dtypes: datetime64[ns](1), float64(2), object(1)\n",
      "memory usage: 12.5+ MB\n"
     ]
    }
   ],
   "source": [
    "#drop Na's\n",
    "temp.dropna(inplace=True)\n",
    "temp.drop(columns='dt', inplace=True)\n",
    "temp.info()"
   ]
  },
  {
   "cell_type": "markdown",
   "id": "1f4f6ba5",
   "metadata": {},
   "source": [
    "Temperature is currently in Celcius. Let's convert it to Fahrenheit."
   ]
  },
  {
   "cell_type": "code",
   "execution_count": 84,
   "id": "81e3cfc9",
   "metadata": {},
   "outputs": [
    {
     "data": {
      "text/html": [
       "<div>\n",
       "<style scoped>\n",
       "    .dataframe tbody tr th:only-of-type {\n",
       "        vertical-align: middle;\n",
       "    }\n",
       "\n",
       "    .dataframe tbody tr th {\n",
       "        vertical-align: top;\n",
       "    }\n",
       "\n",
       "    .dataframe thead th {\n",
       "        text-align: right;\n",
       "    }\n",
       "</style>\n",
       "<table border=\"1\" class=\"dataframe\">\n",
       "  <thead>\n",
       "    <tr style=\"text-align: right;\">\n",
       "      <th></th>\n",
       "      <th>AverageTemperature</th>\n",
       "      <th>AverageTemperatureUncertainty</th>\n",
       "      <th>Country</th>\n",
       "      <th>Date</th>\n",
       "      <th>Avg Temp Fahrenheit</th>\n",
       "    </tr>\n",
       "  </thead>\n",
       "  <tbody>\n",
       "    <tr>\n",
       "      <th>1874</th>\n",
       "      <td>-3.026</td>\n",
       "      <td>0.538</td>\n",
       "      <td>Åland</td>\n",
       "      <td>1900-01-01</td>\n",
       "      <td>26.5532</td>\n",
       "    </tr>\n",
       "    <tr>\n",
       "      <th>1875</th>\n",
       "      <td>-8.063</td>\n",
       "      <td>0.657</td>\n",
       "      <td>Åland</td>\n",
       "      <td>1900-02-01</td>\n",
       "      <td>17.4866</td>\n",
       "    </tr>\n",
       "    <tr>\n",
       "      <th>1876</th>\n",
       "      <td>-3.196</td>\n",
       "      <td>0.467</td>\n",
       "      <td>Åland</td>\n",
       "      <td>1900-03-01</td>\n",
       "      <td>26.2472</td>\n",
       "    </tr>\n",
       "    <tr>\n",
       "      <th>1877</th>\n",
       "      <td>0.781</td>\n",
       "      <td>0.224</td>\n",
       "      <td>Åland</td>\n",
       "      <td>1900-04-01</td>\n",
       "      <td>33.4058</td>\n",
       "    </tr>\n",
       "    <tr>\n",
       "      <th>1878</th>\n",
       "      <td>4.960</td>\n",
       "      <td>0.503</td>\n",
       "      <td>Åland</td>\n",
       "      <td>1900-05-01</td>\n",
       "      <td>40.9280</td>\n",
       "    </tr>\n",
       "  </tbody>\n",
       "</table>\n",
       "</div>"
      ],
      "text/plain": [
       "      AverageTemperature  AverageTemperatureUncertainty Country       Date  \\\n",
       "1874              -3.026                          0.538   Åland 1900-01-01   \n",
       "1875              -8.063                          0.657   Åland 1900-02-01   \n",
       "1876              -3.196                          0.467   Åland 1900-03-01   \n",
       "1877               0.781                          0.224   Åland 1900-04-01   \n",
       "1878               4.960                          0.503   Åland 1900-05-01   \n",
       "\n",
       "      Avg Temp Fahrenheit  \n",
       "1874              26.5532  \n",
       "1875              17.4866  \n",
       "1876              26.2472  \n",
       "1877              33.4058  \n",
       "1878              40.9280  "
      ]
     },
     "execution_count": 84,
     "metadata": {},
     "output_type": "execute_result"
    }
   ],
   "source": [
    "#Convert Temperature to Fahrenheit\n",
    "temp['Avg Temp Fahrenheit']=temp['AverageTemperature'].apply(lambda x: (x*1.8)+32)\n",
    "temp.head()"
   ]
  },
  {
   "cell_type": "markdown",
   "id": "49c5d301",
   "metadata": {},
   "source": [
    "Now let's calculate the average temperature for each country. "
   ]
  },
  {
   "cell_type": "code",
   "execution_count": 85,
   "id": "81c7ad90",
   "metadata": {},
   "outputs": [
    {
     "name": "stdout",
     "output_type": "stream",
     "text": [
      "Country\n",
      "Djibouti                83.986774\n",
      "Mali                    83.514618\n",
      "Burkina Faso            82.917629\n",
      "Senegal                 82.634104\n",
      "Aruba                   82.618064\n",
      "United Arab Emirates    82.177783\n",
      "Mauritania              82.016101\n",
      "Gambia                  81.858790\n",
      "Niger                   81.703632\n",
      "Curaçao                 81.598401\n",
      "Name: Avg Temp Fahrenheit, dtype: float64\n",
      "Country\n",
      "Greenland                                    -0.734238\n",
      "Denmark                                       0.221670\n",
      "Svalbard And Jan Mayen                       19.265252\n",
      "Russia                                       22.698298\n",
      "Canada                                       23.444835\n",
      "Mongolia                                     31.074110\n",
      "Norway                                       32.842550\n",
      "South Georgia And The South Sandwich Isla    34.581059\n",
      "Finland                                      35.003499\n",
      "Iceland                                      35.197170\n",
      "Name: Avg Temp Fahrenheit, dtype: float64\n"
     ]
    }
   ],
   "source": [
    "#Calculate average temp for each country\n",
    "country_temps=temp.groupby('Country')['Avg Temp Fahrenheit'].mean()\n",
    "country_temps\n",
    "print(country_temps.nlargest(10))\n",
    "print(country_temps.nsmallest(10))"
   ]
  },
  {
   "cell_type": "code",
   "execution_count": 86,
   "id": "146226ef",
   "metadata": {},
   "outputs": [
    {
     "data": {
      "text/plain": [
       "Country\n",
       "Tajikistan                                   39.685596\n",
       "Kyrgyzstan                                   38.281566\n",
       "Sweden                                       36.971802\n",
       "Heard Island And Mcdonald Islands            36.611807\n",
       "North America                                36.391026\n",
       "Iceland                                      35.197170\n",
       "Finland                                      35.003499\n",
       "South Georgia And The South Sandwich Isla    34.581059\n",
       "Norway                                       32.842550\n",
       "Mongolia                                     31.074110\n",
       "Canada                                       23.444835\n",
       "Russia                                       22.698298\n",
       "Svalbard And Jan Mayen                       19.265252\n",
       "Denmark                                       0.221670\n",
       "Greenland                                    -0.734238\n",
       "Name: Avg Temp Fahrenheit, dtype: float64"
      ]
     },
     "execution_count": 86,
     "metadata": {},
     "output_type": "execute_result"
    }
   ],
   "source": [
    "country_temps[country_temps<=40].nlargest(15)"
   ]
  },
  {
   "cell_type": "markdown",
   "id": "557e3857",
   "metadata": {},
   "source": [
    "The data contains continent values and some European countries have multiple entries. Maybe european and colonial areas?"
   ]
  },
  {
   "cell_type": "code",
   "execution_count": 87,
   "id": "a84b14b4",
   "metadata": {},
   "outputs": [
    {
     "data": {
      "text/plain": [
       "Country\n",
       "Denmark (Europe)           46.677595\n",
       "France (Europe)            51.243013\n",
       "Netherlands (Europe)       48.958491\n",
       "United Kingdom (Europe)    48.078194\n",
       "Name: Avg Temp Fahrenheit, dtype: float64"
      ]
     },
     "execution_count": 87,
     "metadata": {},
     "output_type": "execute_result"
    }
   ],
   "source": [
    "country_temps[country_temps.index.str.contains(r'\\(Europe\\)')]"
   ]
  },
  {
   "cell_type": "code",
   "execution_count": 88,
   "id": "6ef1c385",
   "metadata": {},
   "outputs": [
    {
     "data": {
      "text/plain": [
       "Country\n",
       "Denmark                     0.221670\n",
       "Denmark (Europe)           46.677595\n",
       "France                     55.509471\n",
       "France (Europe)            51.243013\n",
       "Netherlands                49.665093\n",
       "Netherlands (Europe)       48.958491\n",
       "United Kingdom             47.786381\n",
       "United Kingdom (Europe)    48.078194\n",
       "Name: Avg Temp Fahrenheit, dtype: float64"
      ]
     },
     "execution_count": 88,
     "metadata": {},
     "output_type": "execute_result"
    }
   ],
   "source": [
    "country_temps[country_temps.index.isin(['North America', 'South America', 'Africa', 'Europe', 'Asia','Antarctica', 'Åland', 'Western Sahara', 'France', 'France (Europe)'])]\n",
    "#temp[temp['Country'].isin(['France','France (Europe)'])].sort_values(by=['Date'])\n",
    "country_temps[country_temps.index.isin(['France','France (Europe)','Denmark (Europe)','Denmark','Netherlands (Europe)','Netherlands','United Kingdom (Europe)','United Kingdom'])]"
   ]
  },
  {
   "cell_type": "markdown",
   "id": "a2f97ae6",
   "metadata": {},
   "source": [
    "Appears as those the \"Europe\" countries are a little cooler, indicating the non-Europe measurements might be worldwide including territorial locations. We'll drop the territorial measurements and then rename the \"Europe\" observations to remove the \"Europe\" tag."
   ]
  },
  {
   "cell_type": "code",
   "execution_count": 89,
   "id": "58a3f417",
   "metadata": {},
   "outputs": [
    {
     "data": {
      "text/plain": [
       "Country\n",
       "Denmark           46.677595\n",
       "France            51.243013\n",
       "Netherlands       48.958491\n",
       "United Kingdom    48.078194\n",
       "Name: Avg Temp Fahrenheit, dtype: float64"
      ]
     },
     "execution_count": 89,
     "metadata": {},
     "output_type": "execute_result"
    }
   ],
   "source": [
    "#Remove continents, regions, and colonial areas\n",
    "country_temps=country_temps[~country_temps.index.isin(['North America', 'South America', 'Africa', 'Europe', 'Asia','Antarctica', 'Åland', 'France','Denmark','Netherlands','United Kingdom'])]\n",
    "#Rename the European countries which had separate worldwide measurements\n",
    "country_temps.index=country_temps.index.map(lambda x: x.replace(' (Europe)', '') if '(Europe)' in x else x)\n",
    "\n",
    "#Validate\n",
    "country_temps[country_temps.index.isin(['France','France (Europe)','Denmark (Europe)','Denmark','Netherlands (Europe)','Netherlands','United Kingdom (Europe)','United Kingdom'])]"
   ]
  },
  {
   "cell_type": "markdown",
   "id": "5d96fac0",
   "metadata": {},
   "source": [
    "## Exploratory Data Analysis:"
   ]
  },
  {
   "cell_type": "markdown",
   "id": "7c96187f",
   "metadata": {},
   "source": [
    "We want to group countries into 3 categories (hot, moderate, and cold) based on their average temperature. Let's look at some plots to see the country averages."
   ]
  },
  {
   "cell_type": "code",
   "execution_count": 95,
   "id": "1029f298",
   "metadata": {},
   "outputs": [
    {
     "data": {
      "image/png": "[encoded data removed]",
      "text/plain": [
       "<Figure size 432x288 with 1 Axes>"
      ]
     },
     "metadata": {
      "needs_background": "light"
     },
     "output_type": "display_data"
    }
   ],
   "source": [
    "# Histogram of Average Temperature\n",
    "sns.histplot(data=country_temps, bins=20)\n",
    "plt.xlabel('Average Temperature (Fahrenheit)')\n",
    "plt.ylabel('Count')\n",
    "plt.title('Count of Average Temperature')\n",
    "plt.show()"
   ]
  },
  {
   "cell_type": "markdown",
   "id": "9c521a96",
   "metadata": {},
   "source": [
    "We have a small bimodal curve. We will capture the 2 humps in moderate and high climate by curring in the dips."
   ]
  },
  {
   "cell_type": "code",
   "execution_count": 96,
   "id": "00e4b8ca",
   "metadata": {},
   "outputs": [
    {
     "data": {
      "image/png": "[encoded data removed]",
      "text/plain": [
       "<Figure size 432x288 with 1 Axes>"
      ]
     },
     "metadata": {
      "needs_background": "light"
     },
     "output_type": "display_data"
    },
    {
     "data": {
      "image/png": "[encoded data removed]",
      "text/plain": [
       "<Figure size 432x288 with 1 Axes>"
      ]
     },
     "metadata": {
      "needs_background": "light"
     },
     "output_type": "display_data"
    }
   ],
   "source": [
    "#Scatterplot with potential climate category lines\n",
    "sns.scatterplot(data=country_temps)\n",
    "plt.axhline(y = 60, color = 'black', linestyle = '-')\n",
    "plt.axhline(y = 40, color = 'black', linestyle = '-')\n",
    "plt.title('Distribution of Average Temperatures')\n",
    "plt.xticks([])\n",
    "plt.xlabel('')\n",
    "plt.axhspan(60, 86, color='red', alpha=0.25, lw=0)\n",
    "plt.axhspan(40, 60, color='green', alpha=0.25, lw=0)\n",
    "plt.axhspan(-2, 40, color='blue', alpha=0.25, lw=0)\n",
    "plt.show()\n",
    "\n",
    "sns.swarmplot(data=country_temps)\n",
    "plt.axhspan(60, 86, color='red', alpha=0.25, lw=0)\n",
    "plt.axhspan(40, 60, color='green', alpha=0.25, lw=0)\n",
    "plt.axhspan(-2, 40, color='blue', alpha=0.25, lw=0)\n",
    "plt.show()"
   ]
  },
  {
   "cell_type": "markdown",
   "id": "584a9ac6",
   "metadata": {},
   "source": [
    "Now let's create a categorical bin of 3 climates (hot, moderate, and cold) based on the distribution of average temperatures."
   ]
  },
  {
   "cell_type": "code",
   "execution_count": 108,
   "id": "d432a60c",
   "metadata": {},
   "outputs": [
    {
     "data": {
      "text/html": [
       "<div>\n",
       "<style scoped>\n",
       "    .dataframe tbody tr th:only-of-type {\n",
       "        vertical-align: middle;\n",
       "    }\n",
       "\n",
       "    .dataframe tbody tr th {\n",
       "        vertical-align: top;\n",
       "    }\n",
       "\n",
       "    .dataframe thead th {\n",
       "        text-align: right;\n",
       "    }\n",
       "</style>\n",
       "<table border=\"1\" class=\"dataframe\">\n",
       "  <thead>\n",
       "    <tr style=\"text-align: right;\">\n",
       "      <th></th>\n",
       "      <th>Avg Temp Fahrenheit</th>\n",
       "      <th>Climate</th>\n",
       "    </tr>\n",
       "    <tr>\n",
       "      <th>Country</th>\n",
       "      <th></th>\n",
       "      <th></th>\n",
       "    </tr>\n",
       "  </thead>\n",
       "  <tbody>\n",
       "    <tr>\n",
       "      <th>United States</th>\n",
       "      <td>48.105324</td>\n",
       "      <td>Moderate</td>\n",
       "    </tr>\n",
       "  </tbody>\n",
       "</table>\n",
       "</div>"
      ],
      "text/plain": [
       "               Avg Temp Fahrenheit   Climate\n",
       "Country                                     \n",
       "United States            48.105324  Moderate"
      ]
     },
     "execution_count": 108,
     "metadata": {},
     "output_type": "execute_result"
    }
   ],
   "source": [
    "climate = pd.DataFrame(country_temps)\n",
    "climate['Climate'] = pd.cut(country_temps, [-200, 40, 60, 300], labels=['Cold', 'Moderate', 'Hot'])\n",
    "\n",
    "climate[climate.index == 'United States']"
   ]
  },
  {
   "cell_type": "code",
   "execution_count": 118,
   "id": "1cd62c72",
   "metadata": {},
   "outputs": [
    {
     "name": "stderr",
     "output_type": "stream",
     "text": [
      "/home/emsullivan/.local/lib/python3.8/site-packages/sklearn/cluster/_kmeans.py:1416: FutureWarning: The default value of `n_init` will change from 10 to 'auto' in 1.4. Set the value of `n_init` explicitly to suppress the warning\n",
      "  super()._check_params_vs_input(X, default_n_init=10)\n"
     ]
    },
    {
     "data": {
      "text/html": [
       "<div>\n",
       "<style scoped>\n",
       "    .dataframe tbody tr th:only-of-type {\n",
       "        vertical-align: middle;\n",
       "    }\n",
       "\n",
       "    .dataframe tbody tr th {\n",
       "        vertical-align: top;\n",
       "    }\n",
       "\n",
       "    .dataframe thead th {\n",
       "        text-align: right;\n",
       "    }\n",
       "</style>\n",
       "<table border=\"1\" class=\"dataframe\">\n",
       "  <thead>\n",
       "    <tr style=\"text-align: right;\">\n",
       "      <th></th>\n",
       "      <th>Avg Temp Fahrenheit</th>\n",
       "      <th>climate</th>\n",
       "    </tr>\n",
       "    <tr>\n",
       "      <th>Country</th>\n",
       "      <th></th>\n",
       "      <th></th>\n",
       "    </tr>\n",
       "  </thead>\n",
       "  <tbody>\n",
       "    <tr>\n",
       "      <th>Afghanistan</th>\n",
       "      <td>57.606536</td>\n",
       "      <td>hot</td>\n",
       "    </tr>\n",
       "    <tr>\n",
       "      <th>Albania</th>\n",
       "      <td>55.194766</td>\n",
       "      <td>hot</td>\n",
       "    </tr>\n",
       "    <tr>\n",
       "      <th>Algeria</th>\n",
       "      <td>73.879181</td>\n",
       "      <td>cold</td>\n",
       "    </tr>\n",
       "    <tr>\n",
       "      <th>American Samoa</th>\n",
       "      <td>80.095117</td>\n",
       "      <td>cold</td>\n",
       "    </tr>\n",
       "    <tr>\n",
       "      <th>Andorra</th>\n",
       "      <td>52.631964</td>\n",
       "      <td>hot</td>\n",
       "    </tr>\n",
       "    <tr>\n",
       "      <th>...</th>\n",
       "      <td>...</td>\n",
       "      <td>...</td>\n",
       "    </tr>\n",
       "    <tr>\n",
       "      <th>Virgin Islands</th>\n",
       "      <td>79.763483</td>\n",
       "      <td>cold</td>\n",
       "    </tr>\n",
       "    <tr>\n",
       "      <th>Western Sahara</th>\n",
       "      <td>72.650865</td>\n",
       "      <td>cold</td>\n",
       "    </tr>\n",
       "    <tr>\n",
       "      <th>Yemen</th>\n",
       "      <td>79.393386</td>\n",
       "      <td>cold</td>\n",
       "    </tr>\n",
       "    <tr>\n",
       "      <th>Zambia</th>\n",
       "      <td>70.519724</td>\n",
       "      <td>cold</td>\n",
       "    </tr>\n",
       "    <tr>\n",
       "      <th>Zimbabwe</th>\n",
       "      <td>70.246198</td>\n",
       "      <td>cold</td>\n",
       "    </tr>\n",
       "  </tbody>\n",
       "</table>\n",
       "<p>232 rows × 2 columns</p>\n",
       "</div>"
      ],
      "text/plain": [
       "                Avg Temp Fahrenheit climate\n",
       "Country                                    \n",
       "Afghanistan               57.606536     hot\n",
       "Albania                   55.194766     hot\n",
       "Algeria                   73.879181    cold\n",
       "American Samoa            80.095117    cold\n",
       "Andorra                   52.631964     hot\n",
       "...                             ...     ...\n",
       "Virgin Islands            79.763483    cold\n",
       "Western Sahara            72.650865    cold\n",
       "Yemen                     79.393386    cold\n",
       "Zambia                    70.519724    cold\n",
       "Zimbabwe                  70.246198    cold\n",
       "\n",
       "[232 rows x 2 columns]"
      ]
     },
     "execution_count": 118,
     "metadata": {},
     "output_type": "execute_result"
    }
   ],
   "source": [
    "#Convert the series to an array and reshape\n",
    "temperatures=country_temps.array.reshape(-1, 1) \n",
    "#Create the KMeans model with 3 clusters\n",
    "kmeans=KMeans(n_clusters=3, random_state=0)\n",
    "kmeans.fit(temperatures)\n",
    "#Get the cluster labels for each data point\n",
    "clusters=kmeans.labels_\n",
    "\n",
    "#Review the output of the model by printing the country, its temperature, and the corresponding cluster\n",
    "#for country, temp, cluster in zip(country_temps.index, temperatures, clusters):\n",
    "#    print(f\"Country: {country}, Temperature: {temp[0]}, Cluster: {cluster}\")\n",
    "#Create a new data frame with the country temps and add the associated cluster as a column\n",
    "climate2=pd.DataFrame(country_temps)\n",
    "climate2['climate']=clusters\n",
    "#Map the cluster to a climate description\n",
    "climate2['climate'].replace({0:'cold', 1:'hot', 2:'temperate'}, inplace=True)\n",
    "climate2"
   ]
  },
  {
   "cell_type": "code",
   "execution_count": 119,
   "id": "2b7c6767",
   "metadata": {},
   "outputs": [
    {
     "name": "stdout",
     "output_type": "stream",
     "text": [
      "[28.76980913 49.59748965 76.50084486]\n"
     ]
    }
   ],
   "source": [
    "#Investigate the centers of the clusters to see where they lie and how closely our arbitrary assignments worked\n",
    "centers=kmeans.cluster_centers_.flatten()\n",
    "print(np.sort(centers))"
   ]
  },
  {
   "cell_type": "markdown",
   "id": "32fc8b1e",
   "metadata": {},
   "source": [
    "Our arbitrary categorization was very close to what was obtained in the k-means clustering algorithm. We'll plot the temperatures with their assigned cluster and overlay our arbitrary cut lines."
   ]
  },
  {
   "cell_type": "code",
   "execution_count": 120,
   "id": "0fdbe407",
   "metadata": {},
   "outputs": [
    {
     "data": {
      "text/plain": [
       "Text(0.5, 0, '')"
      ]
     },
     "execution_count": 120,
     "metadata": {},
     "output_type": "execute_result"
    },
    {
     "data": {
      "image/png": "[encoded data removed]",
      "text/plain": [
       "<Figure size 432x288 with 1 Axes>"
      ]
     },
     "metadata": {
      "needs_background": "light"
     },
     "output_type": "display_data"
    }
   ],
   "source": [
    "#Create a plot of the temperatures and the assigned cluster\n",
    "sns.scatterplot(data=climate2, x=climate2.index, y='Avg Temp Fahrenheit', hue='climate', palette=['g', 'r', 'b'], legend='full')\n",
    "plt.axhline(y = 60, color = 'black', linestyle = '-')\n",
    "plt.axhline(y = 40, color = 'black', linestyle = '-')\n",
    "plt.xticks('')\n",
    "plt.xlabel('')"
   ]
  },
  {
   "cell_type": "markdown",
   "id": "aaa6f2c5",
   "metadata": {},
   "source": [
    "Our best guess categorization and the k-means clustering only differed by 1 assignment. K-means drew the cutoff point of cold and temperate at a slightly lower temperature than the 40 degrees we had originally."
   ]
  },
  {
   "cell_type": "code",
   "execution_count": 121,
   "id": "5bdafb7a",
   "metadata": {},
   "outputs": [
    {
     "name": "stdout",
     "output_type": "stream",
     "text": [
      "           Avg Temp Fahrenheit\n",
      "climate                       \n",
      "cold                       156\n",
      "hot                         64\n",
      "temperate                   12\n",
      "          Avg Temp Fahrenheit\n",
      "Climate                      \n",
      "Cold                       13\n",
      "Moderate                   63\n",
      "Hot                       156\n"
     ]
    }
   ],
   "source": [
    "print(climate2.groupby('climate').count())\n",
    "print(climate.groupby('Climate').count())"
   ]
  },
  {
   "cell_type": "markdown",
   "id": "5dcff560",
   "metadata": {},
   "source": [
    "To be able to visualize the temperature data on a map, we need join the temperature data with polygon data that corresponds to country shapes on the map. "
   ]
  },
  {
   "cell_type": "code",
   "execution_count": 122,
   "id": "11ee1e2b",
   "metadata": {},
   "outputs": [
    {
     "name": "stdout",
     "output_type": "stream",
     "text": [
      "Index(['id', 'name', 'geometry'], dtype='object')\n"
     ]
    },
    {
     "data": {
      "image/png": "[encoded data removed]",
      "text/plain": [
       "<Figure size 1080x648 with 1 Axes>"
      ]
     },
     "metadata": {
      "needs_background": "light"
     },
     "output_type": "display_data"
    }
   ],
   "source": [
    "countries_geo = gpd.read_file('countries.geojson')\n",
    "print(countries_geo.columns)\n",
    "\n",
    "countries_geo.plot(figsize=(15, 9), alpha=0.5, edgecolor='k', color='white')\n",
    "plt.tight_layout()\n",
    "plt.show()"
   ]
  },
  {
   "cell_type": "code",
   "execution_count": 123,
   "id": "cfae97af",
   "metadata": {},
   "outputs": [
    {
     "data": {
      "text/html": [
       "<div>\n",
       "<style scoped>\n",
       "    .dataframe tbody tr th:only-of-type {\n",
       "        vertical-align: middle;\n",
       "    }\n",
       "\n",
       "    .dataframe tbody tr th {\n",
       "        vertical-align: top;\n",
       "    }\n",
       "\n",
       "    .dataframe thead th {\n",
       "        text-align: right;\n",
       "    }\n",
       "</style>\n",
       "<table border=\"1\" class=\"dataframe\">\n",
       "  <thead>\n",
       "    <tr style=\"text-align: right;\">\n",
       "      <th></th>\n",
       "      <th>id</th>\n",
       "      <th>name</th>\n",
       "      <th>geometry</th>\n",
       "      <th>Avg Temp Fahrenheit</th>\n",
       "      <th>climate</th>\n",
       "    </tr>\n",
       "  </thead>\n",
       "  <tbody>\n",
       "    <tr>\n",
       "      <th>0</th>\n",
       "      <td>AFG</td>\n",
       "      <td>Afghanistan</td>\n",
       "      <td>POLYGON ((61.21082 35.65007, 62.23065 35.27066...</td>\n",
       "      <td>57.606536</td>\n",
       "      <td>hot</td>\n",
       "    </tr>\n",
       "    <tr>\n",
       "      <th>1</th>\n",
       "      <td>AGO</td>\n",
       "      <td>Angola</td>\n",
       "      <td>MULTIPOLYGON (((16.32653 -5.87747, 16.57318 -6...</td>\n",
       "      <td>71.532228</td>\n",
       "      <td>cold</td>\n",
       "    </tr>\n",
       "    <tr>\n",
       "      <th>2</th>\n",
       "      <td>ALB</td>\n",
       "      <td>Albania</td>\n",
       "      <td>POLYGON ((20.59025 41.85540, 20.46317 41.51509...</td>\n",
       "      <td>55.194766</td>\n",
       "      <td>hot</td>\n",
       "    </tr>\n",
       "    <tr>\n",
       "      <th>3</th>\n",
       "      <td>ARE</td>\n",
       "      <td>United Arab Emirates</td>\n",
       "      <td>POLYGON ((51.57952 24.24550, 51.75744 24.29407...</td>\n",
       "      <td>82.177783</td>\n",
       "      <td>cold</td>\n",
       "    </tr>\n",
       "    <tr>\n",
       "      <th>4</th>\n",
       "      <td>ARG</td>\n",
       "      <td>Argentina</td>\n",
       "      <td>MULTIPOLYGON (((-65.50000 -55.20000, -66.45000...</td>\n",
       "      <td>58.666728</td>\n",
       "      <td>hot</td>\n",
       "    </tr>\n",
       "    <tr>\n",
       "      <th>...</th>\n",
       "      <td>...</td>\n",
       "      <td>...</td>\n",
       "      <td>...</td>\n",
       "      <td>...</td>\n",
       "      <td>...</td>\n",
       "    </tr>\n",
       "    <tr>\n",
       "      <th>175</th>\n",
       "      <td>PSE</td>\n",
       "      <td>West Bank</td>\n",
       "      <td>POLYGON ((35.54566 32.39399, 35.54525 31.78251...</td>\n",
       "      <td>NaN</td>\n",
       "      <td>NaN</td>\n",
       "    </tr>\n",
       "    <tr>\n",
       "      <th>176</th>\n",
       "      <td>YEM</td>\n",
       "      <td>Yemen</td>\n",
       "      <td>POLYGON ((53.10857 16.65105, 52.38521 16.38241...</td>\n",
       "      <td>79.393386</td>\n",
       "      <td>cold</td>\n",
       "    </tr>\n",
       "    <tr>\n",
       "      <th>177</th>\n",
       "      <td>ZAF</td>\n",
       "      <td>South Africa</td>\n",
       "      <td>POLYGON ((31.52100 -29.25739, 31.32556 -29.401...</td>\n",
       "      <td>63.365396</td>\n",
       "      <td>cold</td>\n",
       "    </tr>\n",
       "    <tr>\n",
       "      <th>178</th>\n",
       "      <td>ZMB</td>\n",
       "      <td>Zambia</td>\n",
       "      <td>POLYGON ((32.75937 -9.23060, 33.23139 -9.67672...</td>\n",
       "      <td>70.519724</td>\n",
       "      <td>cold</td>\n",
       "    </tr>\n",
       "    <tr>\n",
       "      <th>179</th>\n",
       "      <td>ZWE</td>\n",
       "      <td>Zimbabwe</td>\n",
       "      <td>POLYGON ((31.19141 -22.25151, 30.65986 -22.151...</td>\n",
       "      <td>70.246198</td>\n",
       "      <td>cold</td>\n",
       "    </tr>\n",
       "  </tbody>\n",
       "</table>\n",
       "<p>180 rows × 5 columns</p>\n",
       "</div>"
      ],
      "text/plain": [
       "      id                  name  \\\n",
       "0    AFG           Afghanistan   \n",
       "1    AGO                Angola   \n",
       "2    ALB               Albania   \n",
       "3    ARE  United Arab Emirates   \n",
       "4    ARG             Argentina   \n",
       "..   ...                   ...   \n",
       "175  PSE             West Bank   \n",
       "176  YEM                 Yemen   \n",
       "177  ZAF          South Africa   \n",
       "178  ZMB                Zambia   \n",
       "179  ZWE              Zimbabwe   \n",
       "\n",
       "                                              geometry  Avg Temp Fahrenheit  \\\n",
       "0    POLYGON ((61.21082 35.65007, 62.23065 35.27066...            57.606536   \n",
       "1    MULTIPOLYGON (((16.32653 -5.87747, 16.57318 -6...            71.532228   \n",
       "2    POLYGON ((20.59025 41.85540, 20.46317 41.51509...            55.194766   \n",
       "3    POLYGON ((51.57952 24.24550, 51.75744 24.29407...            82.177783   \n",
       "4    MULTIPOLYGON (((-65.50000 -55.20000, -66.45000...            58.666728   \n",
       "..                                                 ...                  ...   \n",
       "175  POLYGON ((35.54566 32.39399, 35.54525 31.78251...                  NaN   \n",
       "176  POLYGON ((53.10857 16.65105, 52.38521 16.38241...            79.393386   \n",
       "177  POLYGON ((31.52100 -29.25739, 31.32556 -29.401...            63.365396   \n",
       "178  POLYGON ((32.75937 -9.23060, 33.23139 -9.67672...            70.519724   \n",
       "179  POLYGON ((31.19141 -22.25151, 30.65986 -22.151...            70.246198   \n",
       "\n",
       "    climate  \n",
       "0       hot  \n",
       "1      cold  \n",
       "2       hot  \n",
       "3      cold  \n",
       "4       hot  \n",
       "..      ...  \n",
       "175     NaN  \n",
       "176    cold  \n",
       "177    cold  \n",
       "178    cold  \n",
       "179    cold  \n",
       "\n",
       "[180 rows x 5 columns]"
      ]
     },
     "execution_count": 123,
     "metadata": {},
     "output_type": "execute_result"
    }
   ],
   "source": [
    "countries_df=pd.merge(countries_geo, climate2, how='left', left_on='name', right_on='Country')\n",
    "countries_df"
   ]
  },
  {
   "cell_type": "markdown",
   "id": "29f11722",
   "metadata": {},
   "source": [
    "Now, let's join our temperature and map data on the country code."
   ]
  },
  {
   "cell_type": "code",
   "execution_count": null,
   "id": "6a1e2668",
   "metadata": {},
   "outputs": [],
   "source": [
    "olympic_temp = pd.merge(olympics_)"
   ]
  },
  {
   "cell_type": "code",
   "execution_count": null,
   "id": "97bdfb47",
   "metadata": {},
   "outputs": [],
   "source": []
  },
  {
   "cell_type": "code",
   "execution_count": null,
   "id": "9822a390",
   "metadata": {},
   "outputs": [],
   "source": []
  },
  {
   "cell_type": "code",
   "execution_count": null,
   "id": "be4e9f5d",
   "metadata": {},
   "outputs": [],
   "source": []
  },
  {
   "cell_type": "code",
   "execution_count": null,
   "id": "5e8b979a",
   "metadata": {},
   "outputs": [],
   "source": []
  },
  {
   "cell_type": "code",
   "execution_count": null,
   "id": "5a46f25f",
   "metadata": {},
   "outputs": [],
   "source": []
  },
  {
   "cell_type": "code",
   "execution_count": null,
   "id": "ac6e0fe9",
   "metadata": {},
   "outputs": [],
   "source": []
  },
  {
   "cell_type": "code",
   "execution_count": null,
   "id": "787d1950",
   "metadata": {},
   "outputs": [],
   "source": []
  },
  {
   "cell_type": "code",
   "execution_count": null,
   "id": "a19c61db",
   "metadata": {},
   "outputs": [],
   "source": []
  },
  {
   "cell_type": "code",
   "execution_count": null,
   "id": "89ee8f66",
   "metadata": {},
   "outputs": [],
   "source": []
  },
  {
   "cell_type": "code",
   "execution_count": null,
   "id": "1b97fe70",
   "metadata": {},
   "outputs": [],
   "source": []
  },
  {
   "cell_type": "code",
   "execution_count": null,
   "id": "db4aed97",
   "metadata": {},
   "outputs": [],
   "source": []
  },
  {
   "cell_type": "code",
   "execution_count": null,
   "id": "5bc00f8e",
   "metadata": {},
   "outputs": [],
   "source": []
  },
  {
   "cell_type": "code",
   "execution_count": null,
   "id": "e70b3e5b",
   "metadata": {},
   "outputs": [],
   "source": []
  },
  {
   "cell_type": "code",
   "execution_count": null,
   "id": "3744140f",
   "metadata": {},
   "outputs": [],
   "source": []
  },
  {
   "cell_type": "code",
   "execution_count": null,
   "id": "8764168d",
   "metadata": {},
   "outputs": [],
   "source": []
  },
  {
   "cell_type": "code",
   "execution_count": null,
   "id": "2e28980d",
   "metadata": {},
   "outputs": [],
   "source": []
  },
  {
   "cell_type": "code",
   "execution_count": null,
   "id": "5060db54",
   "metadata": {},
   "outputs": [],
   "source": []
  },
  {
   "cell_type": "code",
   "execution_count": null,
   "id": "8f8acb05",
   "metadata": {},
   "outputs": [],
   "source": []
  },
  {
   "cell_type": "code",
   "execution_count": null,
   "id": "b737c9e7",
   "metadata": {},
   "outputs": [],
   "source": []
  },
  {
   "cell_type": "code",
   "execution_count": null,
   "id": "80510f08",
   "metadata": {},
   "outputs": [],
   "source": []
  },
  {
   "cell_type": "code",
   "execution_count": null,
   "id": "fb249b25",
   "metadata": {},
   "outputs": [],
   "source": []
  },
  {
   "cell_type": "code",
   "execution_count": null,
   "id": "a09cfa33",
   "metadata": {},
   "outputs": [],
   "source": []
  },
  {
   "cell_type": "code",
   "execution_count": null,
   "id": "e652e048",
   "metadata": {},
   "outputs": [],
   "source": []
  },
  {
   "cell_type": "code",
   "execution_count": null,
   "id": "d39672aa",
   "metadata": {},
   "outputs": [],
   "source": []
  },
  {
   "cell_type": "code",
   "execution_count": null,
   "id": "1136d957",
   "metadata": {},
   "outputs": [],
   "source": []
  },
  {
   "cell_type": "code",
   "execution_count": null,
   "id": "f17ab42a",
   "metadata": {},
   "outputs": [],
   "source": []
  },
  {
   "cell_type": "code",
   "execution_count": null,
   "id": "bdd17064",
   "metadata": {},
   "outputs": [],
   "source": []
  },
  {
   "cell_type": "code",
   "execution_count": null,
   "id": "8b62cae3",
   "metadata": {},
   "outputs": [],
   "source": []
  },
  {
   "cell_type": "code",
   "execution_count": null,
   "id": "2cdd4e04",
   "metadata": {},
   "outputs": [],
   "source": []
  },
  {
   "cell_type": "code",
   "execution_count": null,
   "id": "c88af0f5",
   "metadata": {},
   "outputs": [],
   "source": []
  },
  {
   "cell_type": "code",
   "execution_count": null,
   "id": "137609ad",
   "metadata": {},
   "outputs": [],
   "source": []
  },
  {
   "cell_type": "code",
   "execution_count": null,
   "id": "8e501b5b",
   "metadata": {},
   "outputs": [],
   "source": []
  },
  {
   "cell_type": "code",
   "execution_count": null,
   "id": "97476e7a",
   "metadata": {},
   "outputs": [],
   "source": []
  },
  {
   "cell_type": "code",
   "execution_count": null,
   "id": "3f118353",
   "metadata": {},
   "outputs": [],
   "source": []
  },
  {
   "cell_type": "code",
   "execution_count": null,
   "id": "c1382103",
   "metadata": {},
   "outputs": [],
   "source": []
  },
  {
   "cell_type": "code",
   "execution_count": null,
   "id": "9f6bcb3a",
   "metadata": {},
   "outputs": [],
   "source": []
  },
  {
   "cell_type": "code",
   "execution_count": null,
   "id": "8797dd53",
   "metadata": {},
   "outputs": [],
   "source": []
  },
  {
   "cell_type": "code",
   "execution_count": null,
   "id": "ccb6ee0b",
   "metadata": {},
   "outputs": [],
   "source": []
  },
  {
   "cell_type": "code",
   "execution_count": null,
   "id": "c1a24e51",
   "metadata": {},
   "outputs": [],
   "source": []
  },
  {
   "cell_type": "code",
   "execution_count": null,
   "id": "4bfbf3b2",
   "metadata": {},
   "outputs": [],
   "source": []
  },
  {
   "cell_type": "code",
   "execution_count": null,
   "id": "9ee4f29c",
   "metadata": {},
   "outputs": [],
   "source": []
  },
  {
   "cell_type": "code",
   "execution_count": null,
   "id": "2f92701a",
   "metadata": {},
   "outputs": [],
   "source": []
  },
  {
   "cell_type": "code",
   "execution_count": null,
   "id": "0a518aef",
   "metadata": {},
   "outputs": [],
   "source": []
  },
  {
   "cell_type": "code",
   "execution_count": null,
   "id": "64cdd985",
   "metadata": {},
   "outputs": [],
   "source": []
  },
  {
   "cell_type": "code",
   "execution_count": null,
   "id": "ea9d175f",
   "metadata": {},
   "outputs": [],
   "source": []
  },
  {
   "cell_type": "code",
   "execution_count": null,
   "id": "f7578145",
   "metadata": {},
   "outputs": [],
   "source": []
  },
  {
   "cell_type": "code",
   "execution_count": null,
   "id": "6aee36bb",
   "metadata": {},
   "outputs": [],
   "source": []
  },
  {
   "cell_type": "code",
   "execution_count": null,
   "id": "6efa5e67",
   "metadata": {},
   "outputs": [],
   "source": []
  },
  {
   "cell_type": "code",
   "execution_count": null,
   "id": "ec0af147",
   "metadata": {},
   "outputs": [],
   "source": []
  },
  {
   "cell_type": "code",
   "execution_count": null,
   "id": "d0ce1fde",
   "metadata": {},
   "outputs": [],
   "source": []
  },
  {
   "cell_type": "code",
   "execution_count": null,
   "id": "2b6c5ac4",
   "metadata": {},
   "outputs": [],
   "source": []
  },
  {
   "cell_type": "code",
   "execution_count": null,
   "id": "b2eb9a61",
   "metadata": {},
   "outputs": [],
   "source": []
  },
  {
   "cell_type": "code",
   "execution_count": null,
   "id": "c6054066",
   "metadata": {},
   "outputs": [],
   "source": []
  },
  {
   "cell_type": "code",
   "execution_count": null,
   "id": "93851563",
   "metadata": {},
   "outputs": [],
   "source": []
  },
  {
   "cell_type": "code",
   "execution_count": null,
   "id": "62a9af6b",
   "metadata": {},
   "outputs": [],
   "source": []
  },
  {
   "cell_type": "code",
   "execution_count": null,
   "id": "558c72e8",
   "metadata": {},
   "outputs": [],
   "source": []
  },
  {
   "cell_type": "code",
   "execution_count": null,
   "id": "adb42617",
   "metadata": {},
   "outputs": [],
   "source": []
  },
  {
   "cell_type": "code",
   "execution_count": null,
   "id": "d73c12fe",
   "metadata": {},
   "outputs": [],
   "source": []
  },
  {
   "cell_type": "code",
   "execution_count": null,
   "id": "9a9572cf",
   "metadata": {},
   "outputs": [],
   "source": []
  },
  {
   "cell_type": "code",
   "execution_count": null,
   "id": "04b66b8e",
   "metadata": {},
   "outputs": [],
   "source": []
  },
  {
   "cell_type": "code",
   "execution_count": null,
   "id": "572797e1",
   "metadata": {},
   "outputs": [],
   "source": []
  },
  {
   "cell_type": "code",
   "execution_count": null,
   "id": "985aa7c9",
   "metadata": {},
   "outputs": [],
   "source": []
  },
  {
   "cell_type": "code",
   "execution_count": null,
   "id": "39f11ccc",
   "metadata": {},
   "outputs": [],
   "source": []
  },
  {
   "cell_type": "code",
   "execution_count": null,
   "id": "cbcd5e42",
   "metadata": {},
   "outputs": [],
   "source": []
  },
  {
   "cell_type": "code",
   "execution_count": null,
   "id": "2b0c5f98",
   "metadata": {},
   "outputs": [],
   "source": []
  },
  {
   "cell_type": "code",
   "execution_count": null,
   "id": "f8344eb6",
   "metadata": {},
   "outputs": [],
   "source": []
  },
  {
   "cell_type": "code",
   "execution_count": null,
   "id": "cab852b3",
   "metadata": {},
   "outputs": [],
   "source": []
  },
  {
   "cell_type": "code",
   "execution_count": null,
   "id": "2f808e86",
   "metadata": {},
   "outputs": [],
   "source": []
  },
  {
   "cell_type": "code",
   "execution_count": null,
   "id": "8a07aefe",
   "metadata": {},
   "outputs": [],
   "source": []
  },
  {
   "cell_type": "code",
   "execution_count": null,
   "id": "de8313ed",
   "metadata": {},
   "outputs": [],
   "source": []
  },
  {
   "cell_type": "code",
   "execution_count": null,
   "id": "f3a6aa57",
   "metadata": {},
   "outputs": [],
   "source": []
  },
  {
   "cell_type": "code",
   "execution_count": null,
   "id": "3f2d6e44",
   "metadata": {},
   "outputs": [],
   "source": []
  },
  {
   "cell_type": "code",
   "execution_count": null,
   "id": "9afd8e42",
   "metadata": {},
   "outputs": [],
   "source": []
  },
  {
   "cell_type": "code",
   "execution_count": null,
   "id": "7524f259",
   "metadata": {},
   "outputs": [],
   "source": []
  },
  {
   "cell_type": "code",
   "execution_count": null,
   "id": "84fd43f6",
   "metadata": {},
   "outputs": [],
   "source": []
  },
  {
   "cell_type": "code",
   "execution_count": null,
   "id": "bb35d79f",
   "metadata": {},
   "outputs": [],
   "source": []
  },
  {
   "cell_type": "code",
   "execution_count": null,
   "id": "01d3a176",
   "metadata": {},
   "outputs": [],
   "source": []
  },
  {
   "cell_type": "code",
   "execution_count": null,
   "id": "8604ca40",
   "metadata": {},
   "outputs": [],
   "source": []
  },
  {
   "cell_type": "code",
   "execution_count": null,
   "id": "db3f85e0",
   "metadata": {},
   "outputs": [],
   "source": []
  },
  {
   "cell_type": "code",
   "execution_count": null,
   "id": "45e9ba2f",
   "metadata": {},
   "outputs": [],
   "source": []
  },
  {
   "cell_type": "code",
   "execution_count": null,
   "id": "ec156484",
   "metadata": {},
   "outputs": [],
   "source": []
  },
  {
   "cell_type": "code",
   "execution_count": null,
   "id": "30a4f877",
   "metadata": {},
   "outputs": [],
   "source": []
  },
  {
   "cell_type": "code",
   "execution_count": null,
   "id": "4dd988c6",
   "metadata": {},
   "outputs": [],
   "source": []
  },
  {
   "cell_type": "code",
   "execution_count": null,
   "id": "5614da68",
   "metadata": {},
   "outputs": [],
   "source": []
  },
  {
   "cell_type": "code",
   "execution_count": null,
   "id": "3f602b1b",
   "metadata": {},
   "outputs": [],
   "source": []
  },
  {
   "cell_type": "code",
   "execution_count": null,
   "id": "66aa94ac",
   "metadata": {},
   "outputs": [],
   "source": []
  }
 ],
 "metadata": {
  "kernelspec": {
   "display_name": "Python 3 (ipykernel)",
   "language": "python",
   "name": "python3"
  },
  "language_info": {
   "codemirror_mode": {
    "name": "ipython",
    "version": 3
   },
   "file_extension": ".py",
   "mimetype": "text/x-python",
   "name": "python",
   "nbconvert_exporter": "python",
   "pygments_lexer": "ipython3",
   "version": "3.8.10"
  }
 },
 "nbformat": 4,
 "nbformat_minor": 5
}
