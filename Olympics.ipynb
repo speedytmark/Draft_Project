{
 "cells": [
  {
   "cell_type": "markdown",
   "metadata": {},
   "source": [
    "# Olympic Medal Success and Country Population\n",
    "\n",
    "**Authors:**  \n",
    "Ellie Sullivan  \n",
    "Travis Mark"
   ]
  },
  {
   "cell_type": "markdown",
   "metadata": {},
   "source": [
    "## Dataset and motivation slide (1 points)\n",
    "- How/why the dataset was collected and a description of the metadata of your dataset."
   ]
  },
  {
   "cell_type": "markdown",
   "metadata": {},
   "source": [
    "## Actual task definition/research question (2 points)\n",
    "- What real-world problem are you trying to solve? What are the input and output of your analysis?"
   ]
  },
  {
   "cell_type": "markdown",
   "metadata": {},
   "source": [
    "## Literature review (2 points)\n",
    "- What other work has been done in this area, and how is your work novel compared to others?"
   ]
  },
  {
   "cell_type": "markdown",
   "metadata": {},
   "source": [
    "## Quality of cleaning (6 points, 2 points each)\n",
    " \n",
    "- Data cleaning and type conversion activity. Please share anything unusual you faced during this activity.\n",
    "- What did you do about missing values and why? Handling missing values properly is very important.\n",
    "- New feature/attribute creation and data summary statistics and interpretation."
   ]
  },
  {
   "cell_type": "markdown",
   "metadata": {},
   "source": [
    "## Visualization (8 points, 2 points each)\n",
    "- Data visualization activity (box plot, bar plot, violin plot, and pairplot to see relationships and distribution, etc.).\n",
    "- Describe anything you find in the data after each visualization.\n",
    "- What data visualization helped you understand about data distribution.\n",
    "- What you did about possible outlier as per data distribution visualization. (Did you confirm with your client whether it is actually an outlier or put a disclosure statement in your notebook if you decided to remove it?)"
   ]
  }
 ],
 "metadata": {
  "language_info": {
   "name": "python"
  },
  "orig_nbformat": 4
 },
 "nbformat": 4,
 "nbformat_minor": 2
}
